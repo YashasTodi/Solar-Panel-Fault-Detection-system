{
  "cells": [
    {
      "cell_type": "markdown",
      "metadata": {
        "id": "view-in-github",
        "colab_type": "text"
      },
      "source": [
        "<a href=\"https://colab.research.google.com/github/YashasTodi/Solar-Panel-Fault-Detection-system/blob/main/Solar_Panel_Fault_detection_Code.ipynb\" target=\"_parent\"><img src=\"https://colab.research.google.com/assets/colab-badge.svg\" alt=\"Open In Colab\"/></a>"
      ]
    },
    {
      "cell_type": "code",
      "execution_count": null,
      "metadata": {
        "id": "EtJud3BCAAjI"
      },
      "outputs": [],
      "source": []
    },
    {
      "cell_type": "code",
      "execution_count": 1,
      "metadata": {
        "colab": {
          "base_uri": "https://localhost:8080/"
        },
        "collapsed": true,
        "id": "VCD6RkIwFCrt",
        "outputId": "9840d6a6-7e12-419e-ed61-b672089f0809"
      },
      "outputs": [
        {
          "output_type": "stream",
          "name": "stdout",
          "text": [
            "Requirement already satisfied: kaggle in /usr/local/lib/python3.10/dist-packages (1.6.17)\n",
            "Requirement already satisfied: six>=1.10 in /usr/local/lib/python3.10/dist-packages (from kaggle) (1.16.0)\n",
            "Requirement already satisfied: certifi>=2023.7.22 in /usr/local/lib/python3.10/dist-packages (from kaggle) (2024.8.30)\n",
            "Requirement already satisfied: python-dateutil in /usr/local/lib/python3.10/dist-packages (from kaggle) (2.8.2)\n",
            "Requirement already satisfied: requests in /usr/local/lib/python3.10/dist-packages (from kaggle) (2.32.3)\n",
            "Requirement already satisfied: tqdm in /usr/local/lib/python3.10/dist-packages (from kaggle) (4.66.5)\n",
            "Requirement already satisfied: python-slugify in /usr/local/lib/python3.10/dist-packages (from kaggle) (8.0.4)\n",
            "Requirement already satisfied: urllib3 in /usr/local/lib/python3.10/dist-packages (from kaggle) (2.2.3)\n",
            "Requirement already satisfied: bleach in /usr/local/lib/python3.10/dist-packages (from kaggle) (6.1.0)\n",
            "Requirement already satisfied: webencodings in /usr/local/lib/python3.10/dist-packages (from bleach->kaggle) (0.5.1)\n",
            "Requirement already satisfied: text-unidecode>=1.3 in /usr/local/lib/python3.10/dist-packages (from python-slugify->kaggle) (1.3)\n",
            "Requirement already satisfied: charset-normalizer<4,>=2 in /usr/local/lib/python3.10/dist-packages (from requests->kaggle) (3.4.0)\n",
            "Requirement already satisfied: idna<4,>=2.5 in /usr/local/lib/python3.10/dist-packages (from requests->kaggle) (3.10)\n",
            "Dataset URL: https://www.kaggle.com/datasets/pythonafroz/solar-panel-images\n",
            "License(s): unknown\n",
            "Downloading solar-panel-images.zip to /content\n",
            " 99% 303M/305M [00:04<00:00, 113MB/s]\n",
            "100% 305M/305M [00:04<00:00, 67.4MB/s]\n",
            "Archive:  solar-panel-images.zip\n",
            "  inflating: /content/solar-panel-images/Faulty_solar_panel/Bird-drop/Bird (1).jpeg  \n",
            "  inflating: /content/solar-panel-images/Faulty_solar_panel/Bird-drop/Bird (10).jpg  \n",
            "  inflating: /content/solar-panel-images/Faulty_solar_panel/Bird-drop/Bird (100).jpg  \n",
            "  inflating: /content/solar-panel-images/Faulty_solar_panel/Bird-drop/Bird (101).jpg  \n",
            "  inflating: /content/solar-panel-images/Faulty_solar_panel/Bird-drop/Bird (102).jpg  \n",
            "  inflating: /content/solar-panel-images/Faulty_solar_panel/Bird-drop/Bird (103).jpg  \n",
            "  inflating: /content/solar-panel-images/Faulty_solar_panel/Bird-drop/Bird (104).jpg  \n",
            "  inflating: /content/solar-panel-images/Faulty_solar_panel/Bird-drop/Bird (105).jpg  \n",
            "  inflating: /content/solar-panel-images/Faulty_solar_panel/Bird-drop/Bird (106).jpg  \n",
            "  inflating: /content/solar-panel-images/Faulty_solar_panel/Bird-drop/Bird (107).jpg  \n",
            "  inflating: /content/solar-panel-images/Faulty_solar_panel/Bird-drop/Bird (108).jpg  \n",
            "  inflating: /content/solar-panel-images/Faulty_solar_panel/Bird-drop/Bird (109).jpg  \n",
            "  inflating: /content/solar-panel-images/Faulty_solar_panel/Bird-drop/Bird (11).jpg  \n",
            "  inflating: /content/solar-panel-images/Faulty_solar_panel/Bird-drop/Bird (110).jpg  \n",
            "  inflating: /content/solar-panel-images/Faulty_solar_panel/Bird-drop/Bird (111).jpg  \n",
            "  inflating: /content/solar-panel-images/Faulty_solar_panel/Bird-drop/Bird (112).jpg  \n",
            "  inflating: /content/solar-panel-images/Faulty_solar_panel/Bird-drop/Bird (113).jpg  \n",
            "  inflating: /content/solar-panel-images/Faulty_solar_panel/Bird-drop/Bird (114).jpg  \n",
            "  inflating: /content/solar-panel-images/Faulty_solar_panel/Bird-drop/Bird (115).jpg  \n",
            "  inflating: /content/solar-panel-images/Faulty_solar_panel/Bird-drop/Bird (116).jpg  \n",
            "  inflating: /content/solar-panel-images/Faulty_solar_panel/Bird-drop/Bird (117).jpg  \n",
            "  inflating: /content/solar-panel-images/Faulty_solar_panel/Bird-drop/Bird (118).jpg  \n",
            "  inflating: /content/solar-panel-images/Faulty_solar_panel/Bird-drop/Bird (119).jpg  \n",
            "  inflating: /content/solar-panel-images/Faulty_solar_panel/Bird-drop/Bird (12).jpg  \n",
            "  inflating: /content/solar-panel-images/Faulty_solar_panel/Bird-drop/Bird (120).jpg  \n",
            "  inflating: /content/solar-panel-images/Faulty_solar_panel/Bird-drop/Bird (121).jpg  \n",
            "  inflating: /content/solar-panel-images/Faulty_solar_panel/Bird-drop/Bird (122).jpg  \n",
            "  inflating: /content/solar-panel-images/Faulty_solar_panel/Bird-drop/Bird (123).jpg  \n",
            "  inflating: /content/solar-panel-images/Faulty_solar_panel/Bird-drop/Bird (124).jpg  \n",
            "  inflating: /content/solar-panel-images/Faulty_solar_panel/Bird-drop/Bird (125).jpg  \n",
            "  inflating: /content/solar-panel-images/Faulty_solar_panel/Bird-drop/Bird (126).jpg  \n",
            "  inflating: /content/solar-panel-images/Faulty_solar_panel/Bird-drop/Bird (127).jpg  \n",
            "  inflating: /content/solar-panel-images/Faulty_solar_panel/Bird-drop/Bird (128).jpg  \n",
            "  inflating: /content/solar-panel-images/Faulty_solar_panel/Bird-drop/Bird (129).jpg  \n",
            "  inflating: /content/solar-panel-images/Faulty_solar_panel/Bird-drop/Bird (13).jpg  \n",
            "  inflating: /content/solar-panel-images/Faulty_solar_panel/Bird-drop/Bird (130).jpg  \n",
            "  inflating: /content/solar-panel-images/Faulty_solar_panel/Bird-drop/Bird (131).jpg  \n",
            "  inflating: /content/solar-panel-images/Faulty_solar_panel/Bird-drop/Bird (132).jpg  \n",
            "  inflating: /content/solar-panel-images/Faulty_solar_panel/Bird-drop/Bird (133).jpg  \n",
            "  inflating: /content/solar-panel-images/Faulty_solar_panel/Bird-drop/Bird (134).JPG  \n",
            "  inflating: /content/solar-panel-images/Faulty_solar_panel/Bird-drop/Bird (135).jpg  \n",
            "  inflating: /content/solar-panel-images/Faulty_solar_panel/Bird-drop/Bird (136).JPG  \n",
            "  inflating: /content/solar-panel-images/Faulty_solar_panel/Bird-drop/Bird (137).JPG  \n",
            "  inflating: /content/solar-panel-images/Faulty_solar_panel/Bird-drop/Bird (138).JPG  \n",
            "  inflating: /content/solar-panel-images/Faulty_solar_panel/Bird-drop/Bird (139).jpg  \n",
            "  inflating: /content/solar-panel-images/Faulty_solar_panel/Bird-drop/Bird (14).JPG  \n",
            "  inflating: /content/solar-panel-images/Faulty_solar_panel/Bird-drop/Bird (140).jpg  \n",
            "  inflating: /content/solar-panel-images/Faulty_solar_panel/Bird-drop/Bird (141).jpg  \n",
            "  inflating: /content/solar-panel-images/Faulty_solar_panel/Bird-drop/Bird (142).jpg  \n",
            "  inflating: /content/solar-panel-images/Faulty_solar_panel/Bird-drop/Bird (143).jpg  \n",
            "  inflating: /content/solar-panel-images/Faulty_solar_panel/Bird-drop/Bird (144).jpg  \n",
            "  inflating: /content/solar-panel-images/Faulty_solar_panel/Bird-drop/Bird (145).jpg  \n",
            "  inflating: /content/solar-panel-images/Faulty_solar_panel/Bird-drop/Bird (146).jpg  \n",
            "  inflating: /content/solar-panel-images/Faulty_solar_panel/Bird-drop/Bird (147).jpg  \n",
            "  inflating: /content/solar-panel-images/Faulty_solar_panel/Bird-drop/Bird (148).jpg  \n",
            "  inflating: /content/solar-panel-images/Faulty_solar_panel/Bird-drop/Bird (149).jpg  \n",
            "  inflating: /content/solar-panel-images/Faulty_solar_panel/Bird-drop/Bird (15).JPG  \n",
            "  inflating: /content/solar-panel-images/Faulty_solar_panel/Bird-drop/Bird (150).jpg  \n",
            "  inflating: /content/solar-panel-images/Faulty_solar_panel/Bird-drop/Bird (159).jpg  \n",
            "  inflating: /content/solar-panel-images/Faulty_solar_panel/Bird-drop/Bird (16).JPG  \n",
            "  inflating: /content/solar-panel-images/Faulty_solar_panel/Bird-drop/Bird (160).jpg  \n",
            "  inflating: /content/solar-panel-images/Faulty_solar_panel/Bird-drop/Bird (161).jpg  \n",
            "  inflating: /content/solar-panel-images/Faulty_solar_panel/Bird-drop/Bird (162).jpg  \n",
            "  inflating: /content/solar-panel-images/Faulty_solar_panel/Bird-drop/Bird (163).jpg  \n",
            "  inflating: /content/solar-panel-images/Faulty_solar_panel/Bird-drop/Bird (164).jpg  \n",
            "  inflating: /content/solar-panel-images/Faulty_solar_panel/Bird-drop/Bird (165).jpg  \n",
            "  inflating: /content/solar-panel-images/Faulty_solar_panel/Bird-drop/Bird (166).jpg  \n",
            "  inflating: /content/solar-panel-images/Faulty_solar_panel/Bird-drop/Bird (167).JPG  \n",
            "  inflating: /content/solar-panel-images/Faulty_solar_panel/Bird-drop/Bird (168).jpg  \n",
            "  inflating: /content/solar-panel-images/Faulty_solar_panel/Bird-drop/Bird (169).jpg  \n",
            "  inflating: /content/solar-panel-images/Faulty_solar_panel/Bird-drop/Bird (17).jpg  \n",
            "  inflating: /content/solar-panel-images/Faulty_solar_panel/Bird-drop/Bird (170).JPG  \n",
            "  inflating: /content/solar-panel-images/Faulty_solar_panel/Bird-drop/Bird (171).JPG  \n",
            "  inflating: /content/solar-panel-images/Faulty_solar_panel/Bird-drop/Bird (172).jpg  \n",
            "  inflating: /content/solar-panel-images/Faulty_solar_panel/Bird-drop/Bird (173).jpg  \n",
            "  inflating: /content/solar-panel-images/Faulty_solar_panel/Bird-drop/Bird (174).jpg  \n",
            "  inflating: /content/solar-panel-images/Faulty_solar_panel/Bird-drop/Bird (175).jpg  \n",
            "  inflating: /content/solar-panel-images/Faulty_solar_panel/Bird-drop/Bird (176).jpg  \n",
            "  inflating: /content/solar-panel-images/Faulty_solar_panel/Bird-drop/Bird (177).jpg  \n",
            "  inflating: /content/solar-panel-images/Faulty_solar_panel/Bird-drop/Bird (178).jpg  \n",
            "  inflating: /content/solar-panel-images/Faulty_solar_panel/Bird-drop/Bird (179).JPG  \n",
            "  inflating: /content/solar-panel-images/Faulty_solar_panel/Bird-drop/Bird (18).jpg  \n",
            "  inflating: /content/solar-panel-images/Faulty_solar_panel/Bird-drop/Bird (180).jpg  \n",
            "  inflating: /content/solar-panel-images/Faulty_solar_panel/Bird-drop/Bird (181).jpg  \n",
            "  inflating: /content/solar-panel-images/Faulty_solar_panel/Bird-drop/Bird (182).jpg  \n",
            "  inflating: /content/solar-panel-images/Faulty_solar_panel/Bird-drop/Bird (183).jpg  \n",
            "  inflating: /content/solar-panel-images/Faulty_solar_panel/Bird-drop/Bird (184).jpg  \n",
            "  inflating: /content/solar-panel-images/Faulty_solar_panel/Bird-drop/Bird (185).jpg  \n",
            "  inflating: /content/solar-panel-images/Faulty_solar_panel/Bird-drop/Bird (186).jpg  \n",
            "  inflating: /content/solar-panel-images/Faulty_solar_panel/Bird-drop/Bird (187).jpg  \n",
            "  inflating: /content/solar-panel-images/Faulty_solar_panel/Bird-drop/Bird (188).jpg  \n",
            "  inflating: /content/solar-panel-images/Faulty_solar_panel/Bird-drop/Bird (189).jpg  \n",
            "  inflating: /content/solar-panel-images/Faulty_solar_panel/Bird-drop/Bird (19).jpg  \n",
            "  inflating: /content/solar-panel-images/Faulty_solar_panel/Bird-drop/Bird (190).jpg  \n",
            "  inflating: /content/solar-panel-images/Faulty_solar_panel/Bird-drop/Bird (191).jpg  \n",
            "  inflating: /content/solar-panel-images/Faulty_solar_panel/Bird-drop/Bird (192).jpg  \n",
            "  inflating: /content/solar-panel-images/Faulty_solar_panel/Bird-drop/Bird (193).jpg  \n",
            "  inflating: /content/solar-panel-images/Faulty_solar_panel/Bird-drop/Bird (194).jpg  \n",
            "  inflating: /content/solar-panel-images/Faulty_solar_panel/Bird-drop/Bird (195).jpg  \n",
            "  inflating: /content/solar-panel-images/Faulty_solar_panel/Bird-drop/Bird (196).jpg  \n",
            "  inflating: /content/solar-panel-images/Faulty_solar_panel/Bird-drop/Bird (197).jpg  \n",
            "  inflating: /content/solar-panel-images/Faulty_solar_panel/Bird-drop/Bird (198).JPG  \n",
            "  inflating: /content/solar-panel-images/Faulty_solar_panel/Bird-drop/Bird (2).JPG  \n",
            "  inflating: /content/solar-panel-images/Faulty_solar_panel/Bird-drop/Bird (20).jpg  \n",
            "  inflating: /content/solar-panel-images/Faulty_solar_panel/Bird-drop/Bird (21).jpg  \n",
            "  inflating: /content/solar-panel-images/Faulty_solar_panel/Bird-drop/Bird (22).jpg  \n",
            "  inflating: /content/solar-panel-images/Faulty_solar_panel/Bird-drop/Bird (23).JPG  \n",
            "  inflating: /content/solar-panel-images/Faulty_solar_panel/Bird-drop/Bird (24).JPG  \n",
            "  inflating: /content/solar-panel-images/Faulty_solar_panel/Bird-drop/Bird (25).jpg  \n",
            "  inflating: /content/solar-panel-images/Faulty_solar_panel/Bird-drop/Bird (26).JPG  \n",
            "  inflating: /content/solar-panel-images/Faulty_solar_panel/Bird-drop/Bird (27).JPG  \n",
            "  inflating: /content/solar-panel-images/Faulty_solar_panel/Bird-drop/Bird (28).jpg  \n",
            "  inflating: /content/solar-panel-images/Faulty_solar_panel/Bird-drop/Bird (29).jpg  \n",
            "  inflating: /content/solar-panel-images/Faulty_solar_panel/Bird-drop/Bird (3).jpeg  \n",
            "  inflating: /content/solar-panel-images/Faulty_solar_panel/Bird-drop/Bird (3).jpg  \n",
            "  inflating: /content/solar-panel-images/Faulty_solar_panel/Bird-drop/Bird (30).jpg  \n",
            "  inflating: /content/solar-panel-images/Faulty_solar_panel/Bird-drop/Bird (31).JPG  \n",
            "  inflating: /content/solar-panel-images/Faulty_solar_panel/Bird-drop/Bird (32).JPG  \n",
            "  inflating: /content/solar-panel-images/Faulty_solar_panel/Bird-drop/Bird (33).jpg  \n",
            "  inflating: /content/solar-panel-images/Faulty_solar_panel/Bird-drop/Bird (34).jpg  \n",
            "  inflating: /content/solar-panel-images/Faulty_solar_panel/Bird-drop/Bird (35).jpg  \n",
            "  inflating: /content/solar-panel-images/Faulty_solar_panel/Bird-drop/Bird (36).jpg  \n",
            "  inflating: /content/solar-panel-images/Faulty_solar_panel/Bird-drop/Bird (37).jpg  \n",
            "  inflating: /content/solar-panel-images/Faulty_solar_panel/Bird-drop/Bird (38).jpg  \n",
            "  inflating: /content/solar-panel-images/Faulty_solar_panel/Bird-drop/Bird (39).jpg  \n",
            "  inflating: /content/solar-panel-images/Faulty_solar_panel/Bird-drop/Bird (4).jpg  \n",
            "  inflating: /content/solar-panel-images/Faulty_solar_panel/Bird-drop/Bird (40).jpg  \n",
            "  inflating: /content/solar-panel-images/Faulty_solar_panel/Bird-drop/Bird (41).jpg  \n",
            "  inflating: /content/solar-panel-images/Faulty_solar_panel/Bird-drop/Bird (42).jpg  \n",
            "  inflating: /content/solar-panel-images/Faulty_solar_panel/Bird-drop/Bird (43).jpg  \n",
            "  inflating: /content/solar-panel-images/Faulty_solar_panel/Bird-drop/Bird (44).jpg  \n",
            "  inflating: /content/solar-panel-images/Faulty_solar_panel/Bird-drop/Bird (45).jpg  \n",
            "  inflating: /content/solar-panel-images/Faulty_solar_panel/Bird-drop/Bird (46).jpg  \n",
            "  inflating: /content/solar-panel-images/Faulty_solar_panel/Bird-drop/Bird (47).jpg  \n",
            "  inflating: /content/solar-panel-images/Faulty_solar_panel/Bird-drop/Bird (48).jpg  \n",
            "  inflating: /content/solar-panel-images/Faulty_solar_panel/Bird-drop/Bird (49).jpg  \n",
            "  inflating: /content/solar-panel-images/Faulty_solar_panel/Bird-drop/Bird (5).jpg  \n",
            "  inflating: /content/solar-panel-images/Faulty_solar_panel/Bird-drop/Bird (50).jpg  \n",
            "  inflating: /content/solar-panel-images/Faulty_solar_panel/Bird-drop/Bird (51).jpg  \n",
            "  inflating: /content/solar-panel-images/Faulty_solar_panel/Bird-drop/Bird (52).jpg  \n",
            "  inflating: /content/solar-panel-images/Faulty_solar_panel/Bird-drop/Bird (53).jpg  \n",
            "  inflating: /content/solar-panel-images/Faulty_solar_panel/Bird-drop/Bird (54).jpg  \n",
            "  inflating: /content/solar-panel-images/Faulty_solar_panel/Bird-drop/Bird (55).jpg  \n",
            "  inflating: /content/solar-panel-images/Faulty_solar_panel/Bird-drop/Bird (56).jpg  \n",
            "  inflating: /content/solar-panel-images/Faulty_solar_panel/Bird-drop/Bird (57).jpg  \n",
            "  inflating: /content/solar-panel-images/Faulty_solar_panel/Bird-drop/Bird (58).jpg  \n",
            "  inflating: /content/solar-panel-images/Faulty_solar_panel/Bird-drop/Bird (59).jpg  \n",
            "  inflating: /content/solar-panel-images/Faulty_solar_panel/Bird-drop/Bird (6).jpg  \n",
            "  inflating: /content/solar-panel-images/Faulty_solar_panel/Bird-drop/Bird (60).jpg  \n",
            "  inflating: /content/solar-panel-images/Faulty_solar_panel/Bird-drop/Bird (61).jpg  \n",
            "  inflating: /content/solar-panel-images/Faulty_solar_panel/Bird-drop/Bird (62).jpg  \n",
            "  inflating: /content/solar-panel-images/Faulty_solar_panel/Bird-drop/Bird (63).jpg  \n",
            "  inflating: /content/solar-panel-images/Faulty_solar_panel/Bird-drop/Bird (64).jpg  \n",
            "  inflating: /content/solar-panel-images/Faulty_solar_panel/Bird-drop/Bird (65).jpg  \n",
            "  inflating: /content/solar-panel-images/Faulty_solar_panel/Bird-drop/Bird (66).jpg  \n",
            "  inflating: /content/solar-panel-images/Faulty_solar_panel/Bird-drop/Bird (67).jpg  \n",
            "  inflating: /content/solar-panel-images/Faulty_solar_panel/Bird-drop/Bird (68).jpg  \n",
            "  inflating: /content/solar-panel-images/Faulty_solar_panel/Bird-drop/Bird (69).JPG  \n",
            "  inflating: /content/solar-panel-images/Faulty_solar_panel/Bird-drop/Bird (7).jpg  \n",
            "  inflating: /content/solar-panel-images/Faulty_solar_panel/Bird-drop/Bird (70).jpg  \n",
            "  inflating: /content/solar-panel-images/Faulty_solar_panel/Bird-drop/Bird (71).jpg  \n",
            "  inflating: /content/solar-panel-images/Faulty_solar_panel/Bird-drop/Bird (72).jpg  \n",
            "  inflating: /content/solar-panel-images/Faulty_solar_panel/Bird-drop/Bird (73).jpg  \n",
            "  inflating: /content/solar-panel-images/Faulty_solar_panel/Bird-drop/Bird (74).jpg  \n",
            "  inflating: /content/solar-panel-images/Faulty_solar_panel/Bird-drop/Bird (75).jpg  \n",
            "  inflating: /content/solar-panel-images/Faulty_solar_panel/Bird-drop/Bird (76).jpg  \n",
            "  inflating: /content/solar-panel-images/Faulty_solar_panel/Bird-drop/Bird (77).jpg  \n",
            "  inflating: /content/solar-panel-images/Faulty_solar_panel/Bird-drop/Bird (78).jpg  \n",
            "  inflating: /content/solar-panel-images/Faulty_solar_panel/Bird-drop/Bird (79).jpg  \n",
            "  inflating: /content/solar-panel-images/Faulty_solar_panel/Bird-drop/Bird (8).jpg  \n",
            "  inflating: /content/solar-panel-images/Faulty_solar_panel/Bird-drop/Bird (80).jpg  \n",
            "  inflating: /content/solar-panel-images/Faulty_solar_panel/Bird-drop/Bird (81).jpg  \n",
            "  inflating: /content/solar-panel-images/Faulty_solar_panel/Bird-drop/Bird (82).jpg  \n",
            "  inflating: /content/solar-panel-images/Faulty_solar_panel/Bird-drop/Bird (83).jpg  \n",
            "  inflating: /content/solar-panel-images/Faulty_solar_panel/Bird-drop/Bird (84).jpg  \n",
            "  inflating: /content/solar-panel-images/Faulty_solar_panel/Bird-drop/Bird (85).jpg  \n",
            "  inflating: /content/solar-panel-images/Faulty_solar_panel/Bird-drop/Bird (86).jpg  \n",
            "  inflating: /content/solar-panel-images/Faulty_solar_panel/Bird-drop/Bird (87).jpg  \n",
            "  inflating: /content/solar-panel-images/Faulty_solar_panel/Bird-drop/Bird (88).jpg  \n",
            "  inflating: /content/solar-panel-images/Faulty_solar_panel/Bird-drop/Bird (89).jpg  \n",
            "  inflating: /content/solar-panel-images/Faulty_solar_panel/Bird-drop/Bird (9).jpg  \n",
            "  inflating: /content/solar-panel-images/Faulty_solar_panel/Bird-drop/Bird (90).jpg  \n",
            "  inflating: /content/solar-panel-images/Faulty_solar_panel/Bird-drop/Bird (91).jpg  \n",
            "  inflating: /content/solar-panel-images/Faulty_solar_panel/Bird-drop/Bird (92).jpg  \n",
            "  inflating: /content/solar-panel-images/Faulty_solar_panel/Bird-drop/Bird (93).jpg  \n",
            "  inflating: /content/solar-panel-images/Faulty_solar_panel/Bird-drop/Bird (94).jpg  \n",
            "  inflating: /content/solar-panel-images/Faulty_solar_panel/Bird-drop/Bird (95).jpg  \n",
            "  inflating: /content/solar-panel-images/Faulty_solar_panel/Bird-drop/Bird (96).jpg  \n",
            "  inflating: /content/solar-panel-images/Faulty_solar_panel/Bird-drop/Bird (97).jpg  \n",
            "  inflating: /content/solar-panel-images/Faulty_solar_panel/Bird-drop/Bird (98).jpg  \n",
            "  inflating: /content/solar-panel-images/Faulty_solar_panel/Bird-drop/Bird (99).jpg  \n",
            "  inflating: /content/solar-panel-images/Faulty_solar_panel/Bird-drop/New/1.JPG  \n",
            "  inflating: /content/solar-panel-images/Faulty_solar_panel/Bird-drop/New/10.JPG  \n",
            "  inflating: /content/solar-panel-images/Faulty_solar_panel/Bird-drop/New/11.JPG  \n",
            "  inflating: /content/solar-panel-images/Faulty_solar_panel/Bird-drop/New/12.JPG  \n",
            "  inflating: /content/solar-panel-images/Faulty_solar_panel/Bird-drop/New/13.JPG  \n",
            "  inflating: /content/solar-panel-images/Faulty_solar_panel/Bird-drop/New/14.JPG  \n",
            "  inflating: /content/solar-panel-images/Faulty_solar_panel/Bird-drop/New/15.JPG  \n",
            "  inflating: /content/solar-panel-images/Faulty_solar_panel/Bird-drop/New/16.JPG  \n",
            "  inflating: /content/solar-panel-images/Faulty_solar_panel/Bird-drop/New/2.JPG  \n",
            "  inflating: /content/solar-panel-images/Faulty_solar_panel/Bird-drop/New/3.JPG  \n",
            "  inflating: /content/solar-panel-images/Faulty_solar_panel/Bird-drop/New/4.JPG  \n",
            "  inflating: /content/solar-panel-images/Faulty_solar_panel/Bird-drop/New/5.JPG  \n",
            "  inflating: /content/solar-panel-images/Faulty_solar_panel/Bird-drop/New/6.JPG  \n",
            "  inflating: /content/solar-panel-images/Faulty_solar_panel/Bird-drop/New/7.JPG  \n",
            "  inflating: /content/solar-panel-images/Faulty_solar_panel/Bird-drop/New/8.JPG  \n",
            "  inflating: /content/solar-panel-images/Faulty_solar_panel/Bird-drop/New/9.JPG  \n",
            "  inflating: /content/solar-panel-images/Faulty_solar_panel/Bird-drop/desktop.ini  \n",
            "  inflating: /content/solar-panel-images/Faulty_solar_panel/Clean/Clean (1).jpeg  \n",
            "  inflating: /content/solar-panel-images/Faulty_solar_panel/Clean/Clean (10).JPG  \n",
            "  inflating: /content/solar-panel-images/Faulty_solar_panel/Clean/Clean (100).jpg  \n",
            "  inflating: /content/solar-panel-images/Faulty_solar_panel/Clean/Clean (101).jpg  \n",
            "  inflating: /content/solar-panel-images/Faulty_solar_panel/Clean/Clean (102).jpg  \n",
            "  inflating: /content/solar-panel-images/Faulty_solar_panel/Clean/Clean (103).jpg  \n",
            "  inflating: /content/solar-panel-images/Faulty_solar_panel/Clean/Clean (104).jpg  \n",
            "  inflating: /content/solar-panel-images/Faulty_solar_panel/Clean/Clean (105).jpg  \n",
            "  inflating: /content/solar-panel-images/Faulty_solar_panel/Clean/Clean (106).jpg  \n",
            "  inflating: /content/solar-panel-images/Faulty_solar_panel/Clean/Clean (107).jpg  \n",
            "  inflating: /content/solar-panel-images/Faulty_solar_panel/Clean/Clean (108).jpg  \n",
            "  inflating: /content/solar-panel-images/Faulty_solar_panel/Clean/Clean (109).jpg  \n",
            "  inflating: /content/solar-panel-images/Faulty_solar_panel/Clean/Clean (11).jpg  \n",
            "  inflating: /content/solar-panel-images/Faulty_solar_panel/Clean/Clean (110).jpg  \n",
            "  inflating: /content/solar-panel-images/Faulty_solar_panel/Clean/Clean (111).jpg  \n",
            "  inflating: /content/solar-panel-images/Faulty_solar_panel/Clean/Clean (112).jpg  \n",
            "  inflating: /content/solar-panel-images/Faulty_solar_panel/Clean/Clean (113).jpg  \n",
            "  inflating: /content/solar-panel-images/Faulty_solar_panel/Clean/Clean (114).jpg  \n",
            "  inflating: /content/solar-panel-images/Faulty_solar_panel/Clean/Clean (115).jpg  \n",
            "  inflating: /content/solar-panel-images/Faulty_solar_panel/Clean/Clean (116).jpg  \n",
            "  inflating: /content/solar-panel-images/Faulty_solar_panel/Clean/Clean (117).jpg  \n",
            "  inflating: /content/solar-panel-images/Faulty_solar_panel/Clean/Clean (118).jpg  \n",
            "  inflating: /content/solar-panel-images/Faulty_solar_panel/Clean/Clean (119).jpg  \n",
            "  inflating: /content/solar-panel-images/Faulty_solar_panel/Clean/Clean (12).jpg  \n",
            "  inflating: /content/solar-panel-images/Faulty_solar_panel/Clean/Clean (120).jpg  \n",
            "  inflating: /content/solar-panel-images/Faulty_solar_panel/Clean/Clean (121).jpg  \n",
            "  inflating: /content/solar-panel-images/Faulty_solar_panel/Clean/Clean (122).jpg  \n",
            "  inflating: /content/solar-panel-images/Faulty_solar_panel/Clean/Clean (123).jpg  \n",
            "  inflating: /content/solar-panel-images/Faulty_solar_panel/Clean/Clean (124).jpg  \n",
            "  inflating: /content/solar-panel-images/Faulty_solar_panel/Clean/Clean (125).jpg  \n",
            "  inflating: /content/solar-panel-images/Faulty_solar_panel/Clean/Clean (126).jpg  \n",
            "  inflating: /content/solar-panel-images/Faulty_solar_panel/Clean/Clean (127).jpg  \n",
            "  inflating: /content/solar-panel-images/Faulty_solar_panel/Clean/Clean (128).jpg  \n",
            "  inflating: /content/solar-panel-images/Faulty_solar_panel/Clean/Clean (129).jpg  \n",
            "  inflating: /content/solar-panel-images/Faulty_solar_panel/Clean/Clean (13).jpg  \n",
            "  inflating: /content/solar-panel-images/Faulty_solar_panel/Clean/Clean (130).jpg  \n",
            "  inflating: /content/solar-panel-images/Faulty_solar_panel/Clean/Clean (131).jpg  \n",
            "  inflating: /content/solar-panel-images/Faulty_solar_panel/Clean/Clean (132).jpg  \n",
            "  inflating: /content/solar-panel-images/Faulty_solar_panel/Clean/Clean (133).jpg  \n",
            "  inflating: /content/solar-panel-images/Faulty_solar_panel/Clean/Clean (134).jpg  \n",
            "  inflating: /content/solar-panel-images/Faulty_solar_panel/Clean/Clean (135).JPG  \n",
            "  inflating: /content/solar-panel-images/Faulty_solar_panel/Clean/Clean (136).JPG  \n",
            "  inflating: /content/solar-panel-images/Faulty_solar_panel/Clean/Clean (137).jpg  \n",
            "  inflating: /content/solar-panel-images/Faulty_solar_panel/Clean/Clean (138).jpg  \n",
            "  inflating: /content/solar-panel-images/Faulty_solar_panel/Clean/Clean (139).JPG  \n",
            "  inflating: /content/solar-panel-images/Faulty_solar_panel/Clean/Clean (14).jpg  \n",
            "  inflating: /content/solar-panel-images/Faulty_solar_panel/Clean/Clean (140).JPG  \n",
            "  inflating: /content/solar-panel-images/Faulty_solar_panel/Clean/Clean (141).JPG  \n",
            "  inflating: /content/solar-panel-images/Faulty_solar_panel/Clean/Clean (142).jpg  \n",
            "  inflating: /content/solar-panel-images/Faulty_solar_panel/Clean/Clean (143).jpg  \n",
            "  inflating: /content/solar-panel-images/Faulty_solar_panel/Clean/Clean (144).jpg  \n",
            "  inflating: /content/solar-panel-images/Faulty_solar_panel/Clean/Clean (145).jpg  \n",
            "  inflating: /content/solar-panel-images/Faulty_solar_panel/Clean/Clean (146).jpg  \n",
            "  inflating: /content/solar-panel-images/Faulty_solar_panel/Clean/Clean (147).jpg  \n",
            "  inflating: /content/solar-panel-images/Faulty_solar_panel/Clean/Clean (148).jpg  \n",
            "  inflating: /content/solar-panel-images/Faulty_solar_panel/Clean/Clean (149).jpg  \n",
            "  inflating: /content/solar-panel-images/Faulty_solar_panel/Clean/Clean (15).JPG  \n",
            "  inflating: /content/solar-panel-images/Faulty_solar_panel/Clean/Clean (150).jpg  \n",
            "  inflating: /content/solar-panel-images/Faulty_solar_panel/Clean/Clean (151).jpg  \n",
            "  inflating: /content/solar-panel-images/Faulty_solar_panel/Clean/Clean (152).jpg  \n",
            "  inflating: /content/solar-panel-images/Faulty_solar_panel/Clean/Clean (153).jpg  \n",
            "  inflating: /content/solar-panel-images/Faulty_solar_panel/Clean/Clean (154).jpg  \n",
            "  inflating: /content/solar-panel-images/Faulty_solar_panel/Clean/Clean (155).jpg  \n",
            "  inflating: /content/solar-panel-images/Faulty_solar_panel/Clean/Clean (156).jpg  \n",
            "  inflating: /content/solar-panel-images/Faulty_solar_panel/Clean/Clean (157).jpg  \n",
            "  inflating: /content/solar-panel-images/Faulty_solar_panel/Clean/Clean (158).jpg  \n",
            "  inflating: /content/solar-panel-images/Faulty_solar_panel/Clean/Clean (159).jpg  \n",
            "  inflating: /content/solar-panel-images/Faulty_solar_panel/Clean/Clean (16).JPG  \n",
            "  inflating: /content/solar-panel-images/Faulty_solar_panel/Clean/Clean (160).jpg  \n",
            "  inflating: /content/solar-panel-images/Faulty_solar_panel/Clean/Clean (161).jpg  \n",
            "  inflating: /content/solar-panel-images/Faulty_solar_panel/Clean/Clean (162).jpg  \n",
            "  inflating: /content/solar-panel-images/Faulty_solar_panel/Clean/Clean (163).jpg  \n",
            "  inflating: /content/solar-panel-images/Faulty_solar_panel/Clean/Clean (164).jpg  \n",
            "  inflating: /content/solar-panel-images/Faulty_solar_panel/Clean/Clean (165).jpg  \n",
            "  inflating: /content/solar-panel-images/Faulty_solar_panel/Clean/Clean (166).jpg  \n",
            "  inflating: /content/solar-panel-images/Faulty_solar_panel/Clean/Clean (167).jpg  \n",
            "  inflating: /content/solar-panel-images/Faulty_solar_panel/Clean/Clean (168).jpg  \n",
            "  inflating: /content/solar-panel-images/Faulty_solar_panel/Clean/Clean (169).jpg  \n",
            "  inflating: /content/solar-panel-images/Faulty_solar_panel/Clean/Clean (17).jpg  \n",
            "  inflating: /content/solar-panel-images/Faulty_solar_panel/Clean/Clean (170).jpg  \n",
            "  inflating: /content/solar-panel-images/Faulty_solar_panel/Clean/Clean (171).jpg  \n",
            "  inflating: /content/solar-panel-images/Faulty_solar_panel/Clean/Clean (172).jpg  \n",
            "  inflating: /content/solar-panel-images/Faulty_solar_panel/Clean/Clean (173).jpg  \n",
            "  inflating: /content/solar-panel-images/Faulty_solar_panel/Clean/Clean (174).jpg  \n",
            "  inflating: /content/solar-panel-images/Faulty_solar_panel/Clean/Clean (175).jpg  \n",
            "  inflating: /content/solar-panel-images/Faulty_solar_panel/Clean/Clean (176).jpg  \n",
            "  inflating: /content/solar-panel-images/Faulty_solar_panel/Clean/Clean (177).jpg  \n",
            "  inflating: /content/solar-panel-images/Faulty_solar_panel/Clean/Clean (178).jpg  \n",
            "  inflating: /content/solar-panel-images/Faulty_solar_panel/Clean/Clean (179).jpg  \n",
            "  inflating: /content/solar-panel-images/Faulty_solar_panel/Clean/Clean (18).jpg  \n",
            "  inflating: /content/solar-panel-images/Faulty_solar_panel/Clean/Clean (180).jpg  \n",
            "  inflating: /content/solar-panel-images/Faulty_solar_panel/Clean/Clean (181).jpg  \n",
            "  inflating: /content/solar-panel-images/Faulty_solar_panel/Clean/Clean (182).jpg  \n",
            "  inflating: /content/solar-panel-images/Faulty_solar_panel/Clean/Clean (183).jpg  \n",
            "  inflating: /content/solar-panel-images/Faulty_solar_panel/Clean/Clean (184).jpg  \n",
            "  inflating: /content/solar-panel-images/Faulty_solar_panel/Clean/Clean (185).jpg  \n",
            "  inflating: /content/solar-panel-images/Faulty_solar_panel/Clean/Clean (186).jpg  \n",
            "  inflating: /content/solar-panel-images/Faulty_solar_panel/Clean/Clean (187).jpg  \n",
            "  inflating: /content/solar-panel-images/Faulty_solar_panel/Clean/Clean (188).jpg  \n",
            "  inflating: /content/solar-panel-images/Faulty_solar_panel/Clean/Clean (189).jpg  \n",
            "  inflating: /content/solar-panel-images/Faulty_solar_panel/Clean/Clean (19).jpg  \n",
            "  inflating: /content/solar-panel-images/Faulty_solar_panel/Clean/Clean (190).jpg  \n",
            "  inflating: /content/solar-panel-images/Faulty_solar_panel/Clean/Clean (191).jpg  \n",
            "  inflating: /content/solar-panel-images/Faulty_solar_panel/Clean/Clean (192).jpg  \n",
            "  inflating: /content/solar-panel-images/Faulty_solar_panel/Clean/Clean (193).png  \n",
            "  inflating: /content/solar-panel-images/Faulty_solar_panel/Clean/Clean (2).jpg  \n",
            "  inflating: /content/solar-panel-images/Faulty_solar_panel/Clean/Clean (20).jpg  \n",
            "  inflating: /content/solar-panel-images/Faulty_solar_panel/Clean/Clean (21).jpg  \n",
            "  inflating: /content/solar-panel-images/Faulty_solar_panel/Clean/Clean (22).jpg  \n",
            "  inflating: /content/solar-panel-images/Faulty_solar_panel/Clean/Clean (23).jpg  \n",
            "  inflating: /content/solar-panel-images/Faulty_solar_panel/Clean/Clean (24).jpg  \n",
            "  inflating: /content/solar-panel-images/Faulty_solar_panel/Clean/Clean (25).jpg  \n",
            "  inflating: /content/solar-panel-images/Faulty_solar_panel/Clean/Clean (26).jpg  \n",
            "  inflating: /content/solar-panel-images/Faulty_solar_panel/Clean/Clean (27).jpg  \n",
            "  inflating: /content/solar-panel-images/Faulty_solar_panel/Clean/Clean (28).jpg  \n",
            "  inflating: /content/solar-panel-images/Faulty_solar_panel/Clean/Clean (29).jpg  \n",
            "  inflating: /content/solar-panel-images/Faulty_solar_panel/Clean/Clean (3).jpg  \n",
            "  inflating: /content/solar-panel-images/Faulty_solar_panel/Clean/Clean (30).jpg  \n",
            "  inflating: /content/solar-panel-images/Faulty_solar_panel/Clean/Clean (31).jpg  \n",
            "  inflating: /content/solar-panel-images/Faulty_solar_panel/Clean/Clean (32).jpg  \n",
            "  inflating: /content/solar-panel-images/Faulty_solar_panel/Clean/Clean (33).jpg  \n",
            "  inflating: /content/solar-panel-images/Faulty_solar_panel/Clean/Clean (34).jpg  \n",
            "  inflating: /content/solar-panel-images/Faulty_solar_panel/Clean/Clean (35).jpg  \n",
            "  inflating: /content/solar-panel-images/Faulty_solar_panel/Clean/Clean (36).jpg  \n",
            "  inflating: /content/solar-panel-images/Faulty_solar_panel/Clean/Clean (37).jpg  \n",
            "  inflating: /content/solar-panel-images/Faulty_solar_panel/Clean/Clean (38).jpg  \n",
            "  inflating: /content/solar-panel-images/Faulty_solar_panel/Clean/Clean (39).jpg  \n",
            "  inflating: /content/solar-panel-images/Faulty_solar_panel/Clean/Clean (4).jpg  \n",
            "  inflating: /content/solar-panel-images/Faulty_solar_panel/Clean/Clean (40).jpg  \n",
            "  inflating: /content/solar-panel-images/Faulty_solar_panel/Clean/Clean (41).jpg  \n",
            "  inflating: /content/solar-panel-images/Faulty_solar_panel/Clean/Clean (42).jpg  \n",
            "  inflating: /content/solar-panel-images/Faulty_solar_panel/Clean/Clean (43).jpg  \n",
            "  inflating: /content/solar-panel-images/Faulty_solar_panel/Clean/Clean (44).jpg  \n",
            "  inflating: /content/solar-panel-images/Faulty_solar_panel/Clean/Clean (45).jpg  \n",
            "  inflating: /content/solar-panel-images/Faulty_solar_panel/Clean/Clean (46).jpg  \n",
            "  inflating: /content/solar-panel-images/Faulty_solar_panel/Clean/Clean (47).jpg  \n",
            "  inflating: /content/solar-panel-images/Faulty_solar_panel/Clean/Clean (48).jpg  \n",
            "  inflating: /content/solar-panel-images/Faulty_solar_panel/Clean/Clean (49).jpg  \n",
            "  inflating: /content/solar-panel-images/Faulty_solar_panel/Clean/Clean (5).jpg  \n",
            "  inflating: /content/solar-panel-images/Faulty_solar_panel/Clean/Clean (50).jpg  \n",
            "  inflating: /content/solar-panel-images/Faulty_solar_panel/Clean/Clean (51).jpg  \n",
            "  inflating: /content/solar-panel-images/Faulty_solar_panel/Clean/Clean (52).jpg  \n",
            "  inflating: /content/solar-panel-images/Faulty_solar_panel/Clean/Clean (53).jpg  \n",
            "  inflating: /content/solar-panel-images/Faulty_solar_panel/Clean/Clean (54).jpg  \n",
            "  inflating: /content/solar-panel-images/Faulty_solar_panel/Clean/Clean (55).jpg  \n",
            "  inflating: /content/solar-panel-images/Faulty_solar_panel/Clean/Clean (56).jpg  \n",
            "  inflating: /content/solar-panel-images/Faulty_solar_panel/Clean/Clean (57).jpg  \n",
            "  inflating: /content/solar-panel-images/Faulty_solar_panel/Clean/Clean (58).jpg  \n",
            "  inflating: /content/solar-panel-images/Faulty_solar_panel/Clean/Clean (59).jpg  \n",
            "  inflating: /content/solar-panel-images/Faulty_solar_panel/Clean/Clean (6).jpg  \n",
            "  inflating: /content/solar-panel-images/Faulty_solar_panel/Clean/Clean (60).jpg  \n",
            "  inflating: /content/solar-panel-images/Faulty_solar_panel/Clean/Clean (61).jpg  \n",
            "  inflating: /content/solar-panel-images/Faulty_solar_panel/Clean/Clean (62).jpg  \n",
            "  inflating: /content/solar-panel-images/Faulty_solar_panel/Clean/Clean (63).jpg  \n",
            "  inflating: /content/solar-panel-images/Faulty_solar_panel/Clean/Clean (64).jpg  \n",
            "  inflating: /content/solar-panel-images/Faulty_solar_panel/Clean/Clean (65).jpg  \n",
            "  inflating: /content/solar-panel-images/Faulty_solar_panel/Clean/Clean (66).jpg  \n",
            "  inflating: /content/solar-panel-images/Faulty_solar_panel/Clean/Clean (67).jpg  \n",
            "  inflating: /content/solar-panel-images/Faulty_solar_panel/Clean/Clean (68).jpg  \n",
            "  inflating: /content/solar-panel-images/Faulty_solar_panel/Clean/Clean (69).jpg  \n",
            "  inflating: /content/solar-panel-images/Faulty_solar_panel/Clean/Clean (7).jpg  \n",
            "  inflating: /content/solar-panel-images/Faulty_solar_panel/Clean/Clean (70).jpg  \n",
            "  inflating: /content/solar-panel-images/Faulty_solar_panel/Clean/Clean (71).jpg  \n",
            "  inflating: /content/solar-panel-images/Faulty_solar_panel/Clean/Clean (72).jpg  \n",
            "  inflating: /content/solar-panel-images/Faulty_solar_panel/Clean/Clean (73).jpg  \n",
            "  inflating: /content/solar-panel-images/Faulty_solar_panel/Clean/Clean (74).jpg  \n",
            "  inflating: /content/solar-panel-images/Faulty_solar_panel/Clean/Clean (75).jpg  \n",
            "  inflating: /content/solar-panel-images/Faulty_solar_panel/Clean/Clean (76).jpg  \n",
            "  inflating: /content/solar-panel-images/Faulty_solar_panel/Clean/Clean (77).jpg  \n",
            "  inflating: /content/solar-panel-images/Faulty_solar_panel/Clean/Clean (78).jpg  \n",
            "  inflating: /content/solar-panel-images/Faulty_solar_panel/Clean/Clean (79).jpg  \n",
            "  inflating: /content/solar-panel-images/Faulty_solar_panel/Clean/Clean (8).jpg  \n",
            "  inflating: /content/solar-panel-images/Faulty_solar_panel/Clean/Clean (80).jpg  \n",
            "  inflating: /content/solar-panel-images/Faulty_solar_panel/Clean/Clean (81).jpg  \n",
            "  inflating: /content/solar-panel-images/Faulty_solar_panel/Clean/Clean (82).jpg  \n",
            "  inflating: /content/solar-panel-images/Faulty_solar_panel/Clean/Clean (83).jpg  \n",
            "  inflating: /content/solar-panel-images/Faulty_solar_panel/Clean/Clean (84).jpg  \n",
            "  inflating: /content/solar-panel-images/Faulty_solar_panel/Clean/Clean (85).jpg  \n",
            "  inflating: /content/solar-panel-images/Faulty_solar_panel/Clean/Clean (86).jpg  \n",
            "  inflating: /content/solar-panel-images/Faulty_solar_panel/Clean/Clean (87).jpg  \n",
            "  inflating: /content/solar-panel-images/Faulty_solar_panel/Clean/Clean (88).jpg  \n",
            "  inflating: /content/solar-panel-images/Faulty_solar_panel/Clean/Clean (89).jpg  \n",
            "  inflating: /content/solar-panel-images/Faulty_solar_panel/Clean/Clean (9).jpg  \n",
            "  inflating: /content/solar-panel-images/Faulty_solar_panel/Clean/Clean (90).jpg  \n",
            "  inflating: /content/solar-panel-images/Faulty_solar_panel/Clean/Clean (91).jpg  \n",
            "  inflating: /content/solar-panel-images/Faulty_solar_panel/Clean/Clean (92).jpg  \n",
            "  inflating: /content/solar-panel-images/Faulty_solar_panel/Clean/Clean (93).jpg  \n",
            "  inflating: /content/solar-panel-images/Faulty_solar_panel/Clean/Clean (94).jpg  \n",
            "  inflating: /content/solar-panel-images/Faulty_solar_panel/Clean/Clean (95).jpg  \n",
            "  inflating: /content/solar-panel-images/Faulty_solar_panel/Clean/Clean (96).jpg  \n",
            "  inflating: /content/solar-panel-images/Faulty_solar_panel/Clean/Clean (97).jpg  \n",
            "  inflating: /content/solar-panel-images/Faulty_solar_panel/Clean/Clean (98).jpg  \n",
            "  inflating: /content/solar-panel-images/Faulty_solar_panel/Clean/Clean (99).jpg  \n",
            "  inflating: /content/solar-panel-images/Faulty_solar_panel/Clean/desktop.ini  \n",
            "  inflating: /content/solar-panel-images/Faulty_solar_panel/Dusty/Dust (1).jpg  \n",
            "  inflating: /content/solar-panel-images/Faulty_solar_panel/Dusty/Dust (10).jpg  \n",
            "  inflating: /content/solar-panel-images/Faulty_solar_panel/Dusty/Dust (100).jpg  \n",
            "  inflating: /content/solar-panel-images/Faulty_solar_panel/Dusty/Dust (101).jpg  \n",
            "  inflating: /content/solar-panel-images/Faulty_solar_panel/Dusty/Dust (102).jpg  \n",
            "  inflating: /content/solar-panel-images/Faulty_solar_panel/Dusty/Dust (103).jpg  \n",
            "  inflating: /content/solar-panel-images/Faulty_solar_panel/Dusty/Dust (104).jpg  \n",
            "  inflating: /content/solar-panel-images/Faulty_solar_panel/Dusty/Dust (105).jpg  \n",
            "  inflating: /content/solar-panel-images/Faulty_solar_panel/Dusty/Dust (106).jpg  \n",
            "  inflating: /content/solar-panel-images/Faulty_solar_panel/Dusty/Dust (107).jpg  \n",
            "  inflating: /content/solar-panel-images/Faulty_solar_panel/Dusty/Dust (108).jpg  \n",
            "  inflating: /content/solar-panel-images/Faulty_solar_panel/Dusty/Dust (109).jpg  \n",
            "  inflating: /content/solar-panel-images/Faulty_solar_panel/Dusty/Dust (11).jpg  \n",
            "  inflating: /content/solar-panel-images/Faulty_solar_panel/Dusty/Dust (110).jpg  \n",
            "  inflating: /content/solar-panel-images/Faulty_solar_panel/Dusty/Dust (111).jpg  \n",
            "  inflating: /content/solar-panel-images/Faulty_solar_panel/Dusty/Dust (112).jpg  \n",
            "  inflating: /content/solar-panel-images/Faulty_solar_panel/Dusty/Dust (113).jpg  \n",
            "  inflating: /content/solar-panel-images/Faulty_solar_panel/Dusty/Dust (114).jpg  \n",
            "  inflating: /content/solar-panel-images/Faulty_solar_panel/Dusty/Dust (115).jpg  \n",
            "  inflating: /content/solar-panel-images/Faulty_solar_panel/Dusty/Dust (116).jpg  \n",
            "  inflating: /content/solar-panel-images/Faulty_solar_panel/Dusty/Dust (117).jpg  \n",
            "  inflating: /content/solar-panel-images/Faulty_solar_panel/Dusty/Dust (118).jpg  \n",
            "  inflating: /content/solar-panel-images/Faulty_solar_panel/Dusty/Dust (119).jpg  \n",
            "  inflating: /content/solar-panel-images/Faulty_solar_panel/Dusty/Dust (12).jpg  \n",
            "  inflating: /content/solar-panel-images/Faulty_solar_panel/Dusty/Dust (120).jpg  \n",
            "  inflating: /content/solar-panel-images/Faulty_solar_panel/Dusty/Dust (121).jpg  \n",
            "  inflating: /content/solar-panel-images/Faulty_solar_panel/Dusty/Dust (122).jpg  \n",
            "  inflating: /content/solar-panel-images/Faulty_solar_panel/Dusty/Dust (123).jpg  \n",
            "  inflating: /content/solar-panel-images/Faulty_solar_panel/Dusty/Dust (124).jpg  \n",
            "  inflating: /content/solar-panel-images/Faulty_solar_panel/Dusty/Dust (125).jpg  \n",
            "  inflating: /content/solar-panel-images/Faulty_solar_panel/Dusty/Dust (126).jpg  \n",
            "  inflating: /content/solar-panel-images/Faulty_solar_panel/Dusty/Dust (127).jpg  \n",
            "  inflating: /content/solar-panel-images/Faulty_solar_panel/Dusty/Dust (128).jpg  \n",
            "  inflating: /content/solar-panel-images/Faulty_solar_panel/Dusty/Dust (129).jpg  \n",
            "  inflating: /content/solar-panel-images/Faulty_solar_panel/Dusty/Dust (13).jpg  \n",
            "  inflating: /content/solar-panel-images/Faulty_solar_panel/Dusty/Dust (130).jpg  \n",
            "  inflating: /content/solar-panel-images/Faulty_solar_panel/Dusty/Dust (131).jpg  \n",
            "  inflating: /content/solar-panel-images/Faulty_solar_panel/Dusty/Dust (132).jpg  \n",
            "  inflating: /content/solar-panel-images/Faulty_solar_panel/Dusty/Dust (133).jpg  \n",
            "  inflating: /content/solar-panel-images/Faulty_solar_panel/Dusty/Dust (134).jpg  \n",
            "  inflating: /content/solar-panel-images/Faulty_solar_panel/Dusty/Dust (135).jpg  \n",
            "  inflating: /content/solar-panel-images/Faulty_solar_panel/Dusty/Dust (136).jpg  \n",
            "  inflating: /content/solar-panel-images/Faulty_solar_panel/Dusty/Dust (137).jpg  \n",
            "  inflating: /content/solar-panel-images/Faulty_solar_panel/Dusty/Dust (138).jpg  \n",
            "  inflating: /content/solar-panel-images/Faulty_solar_panel/Dusty/Dust (139).jpg  \n",
            "  inflating: /content/solar-panel-images/Faulty_solar_panel/Dusty/Dust (14).jpg  \n",
            "  inflating: /content/solar-panel-images/Faulty_solar_panel/Dusty/Dust (140).jpg  \n",
            "  inflating: /content/solar-panel-images/Faulty_solar_panel/Dusty/Dust (141).jpg  \n",
            "  inflating: /content/solar-panel-images/Faulty_solar_panel/Dusty/Dust (142).jpg  \n",
            "  inflating: /content/solar-panel-images/Faulty_solar_panel/Dusty/Dust (143).jpg  \n",
            "  inflating: /content/solar-panel-images/Faulty_solar_panel/Dusty/Dust (144).jpg  \n",
            "  inflating: /content/solar-panel-images/Faulty_solar_panel/Dusty/Dust (145).jpg  \n",
            "  inflating: /content/solar-panel-images/Faulty_solar_panel/Dusty/Dust (146).jpg  \n",
            "  inflating: /content/solar-panel-images/Faulty_solar_panel/Dusty/Dust (147).jpg  \n",
            "  inflating: /content/solar-panel-images/Faulty_solar_panel/Dusty/Dust (148).jpg  \n",
            "  inflating: /content/solar-panel-images/Faulty_solar_panel/Dusty/Dust (149).jpg  \n",
            "  inflating: /content/solar-panel-images/Faulty_solar_panel/Dusty/Dust (15).jpg  \n",
            "  inflating: /content/solar-panel-images/Faulty_solar_panel/Dusty/Dust (150).jpg  \n",
            "  inflating: /content/solar-panel-images/Faulty_solar_panel/Dusty/Dust (151).jpg  \n",
            "  inflating: /content/solar-panel-images/Faulty_solar_panel/Dusty/Dust (152).jpg  \n",
            "  inflating: /content/solar-panel-images/Faulty_solar_panel/Dusty/Dust (153).jpg  \n",
            "  inflating: /content/solar-panel-images/Faulty_solar_panel/Dusty/Dust (154).jpg  \n",
            "  inflating: /content/solar-panel-images/Faulty_solar_panel/Dusty/Dust (155).jpg  \n",
            "  inflating: /content/solar-panel-images/Faulty_solar_panel/Dusty/Dust (156).jpg  \n",
            "  inflating: /content/solar-panel-images/Faulty_solar_panel/Dusty/Dust (157).jpg  \n",
            "  inflating: /content/solar-panel-images/Faulty_solar_panel/Dusty/Dust (158).jpg  \n",
            "  inflating: /content/solar-panel-images/Faulty_solar_panel/Dusty/Dust (159).jpg  \n",
            "  inflating: /content/solar-panel-images/Faulty_solar_panel/Dusty/Dust (16).jpg  \n",
            "  inflating: /content/solar-panel-images/Faulty_solar_panel/Dusty/Dust (160).jpg  \n",
            "  inflating: /content/solar-panel-images/Faulty_solar_panel/Dusty/Dust (161).jpg  \n",
            "  inflating: /content/solar-panel-images/Faulty_solar_panel/Dusty/Dust (162).jpg  \n",
            "  inflating: /content/solar-panel-images/Faulty_solar_panel/Dusty/Dust (163).jpg  \n",
            "  inflating: /content/solar-panel-images/Faulty_solar_panel/Dusty/Dust (164).jpg  \n",
            "  inflating: /content/solar-panel-images/Faulty_solar_panel/Dusty/Dust (165).jpg  \n",
            "  inflating: /content/solar-panel-images/Faulty_solar_panel/Dusty/Dust (166).jpg  \n",
            "  inflating: /content/solar-panel-images/Faulty_solar_panel/Dusty/Dust (167).jpg  \n",
            "  inflating: /content/solar-panel-images/Faulty_solar_panel/Dusty/Dust (168).jpg  \n",
            "  inflating: /content/solar-panel-images/Faulty_solar_panel/Dusty/Dust (169).jpg  \n",
            "  inflating: /content/solar-panel-images/Faulty_solar_panel/Dusty/Dust (17).jpg  \n",
            "  inflating: /content/solar-panel-images/Faulty_solar_panel/Dusty/Dust (170).jpg  \n",
            "  inflating: /content/solar-panel-images/Faulty_solar_panel/Dusty/Dust (171).jpg  \n",
            "  inflating: /content/solar-panel-images/Faulty_solar_panel/Dusty/Dust (172).jpg  \n",
            "  inflating: /content/solar-panel-images/Faulty_solar_panel/Dusty/Dust (173).jpg  \n",
            "  inflating: /content/solar-panel-images/Faulty_solar_panel/Dusty/Dust (174).jpg  \n",
            "  inflating: /content/solar-panel-images/Faulty_solar_panel/Dusty/Dust (175).jpg  \n",
            "  inflating: /content/solar-panel-images/Faulty_solar_panel/Dusty/Dust (176).jpg  \n",
            "  inflating: /content/solar-panel-images/Faulty_solar_panel/Dusty/Dust (177).jpg  \n",
            "  inflating: /content/solar-panel-images/Faulty_solar_panel/Dusty/Dust (178).jpg  \n",
            "  inflating: /content/solar-panel-images/Faulty_solar_panel/Dusty/Dust (179).jpg  \n",
            "  inflating: /content/solar-panel-images/Faulty_solar_panel/Dusty/Dust (18).jpg  \n",
            "  inflating: /content/solar-panel-images/Faulty_solar_panel/Dusty/Dust (180).jpg  \n",
            "  inflating: /content/solar-panel-images/Faulty_solar_panel/Dusty/Dust (181).jpg  \n",
            "  inflating: /content/solar-panel-images/Faulty_solar_panel/Dusty/Dust (182).jpg  \n",
            "  inflating: /content/solar-panel-images/Faulty_solar_panel/Dusty/Dust (183).jpg  \n",
            "  inflating: /content/solar-panel-images/Faulty_solar_panel/Dusty/Dust (184).jpg  \n",
            "  inflating: /content/solar-panel-images/Faulty_solar_panel/Dusty/Dust (185).jpg  \n",
            "  inflating: /content/solar-panel-images/Faulty_solar_panel/Dusty/Dust (186).jpg  \n",
            "  inflating: /content/solar-panel-images/Faulty_solar_panel/Dusty/Dust (187).jpg  \n",
            "  inflating: /content/solar-panel-images/Faulty_solar_panel/Dusty/Dust (188).jpg  \n",
            "  inflating: /content/solar-panel-images/Faulty_solar_panel/Dusty/Dust (189).jpg  \n",
            "  inflating: /content/solar-panel-images/Faulty_solar_panel/Dusty/Dust (19).jpg  \n",
            "  inflating: /content/solar-panel-images/Faulty_solar_panel/Dusty/Dust (190).jpg  \n",
            "  inflating: /content/solar-panel-images/Faulty_solar_panel/Dusty/Dust (2).jpg  \n",
            "  inflating: /content/solar-panel-images/Faulty_solar_panel/Dusty/Dust (20).jpg  \n",
            "  inflating: /content/solar-panel-images/Faulty_solar_panel/Dusty/Dust (21).jpg  \n",
            "  inflating: /content/solar-panel-images/Faulty_solar_panel/Dusty/Dust (22).jpg  \n",
            "  inflating: /content/solar-panel-images/Faulty_solar_panel/Dusty/Dust (23).jpg  \n",
            "  inflating: /content/solar-panel-images/Faulty_solar_panel/Dusty/Dust (24).jpg  \n",
            "  inflating: /content/solar-panel-images/Faulty_solar_panel/Dusty/Dust (25).jpg  \n",
            "  inflating: /content/solar-panel-images/Faulty_solar_panel/Dusty/Dust (26).jpg  \n",
            "  inflating: /content/solar-panel-images/Faulty_solar_panel/Dusty/Dust (27).jpg  \n",
            "  inflating: /content/solar-panel-images/Faulty_solar_panel/Dusty/Dust (28).jpg  \n",
            "  inflating: /content/solar-panel-images/Faulty_solar_panel/Dusty/Dust (29).jpg  \n",
            "  inflating: /content/solar-panel-images/Faulty_solar_panel/Dusty/Dust (3).jpg  \n",
            "  inflating: /content/solar-panel-images/Faulty_solar_panel/Dusty/Dust (30).jpg  \n",
            "  inflating: /content/solar-panel-images/Faulty_solar_panel/Dusty/Dust (31).jpg  \n",
            "  inflating: /content/solar-panel-images/Faulty_solar_panel/Dusty/Dust (32).jpg  \n",
            "  inflating: /content/solar-panel-images/Faulty_solar_panel/Dusty/Dust (33).jpg  \n",
            "  inflating: /content/solar-panel-images/Faulty_solar_panel/Dusty/Dust (34).jpg  \n",
            "  inflating: /content/solar-panel-images/Faulty_solar_panel/Dusty/Dust (35).jpg  \n",
            "  inflating: /content/solar-panel-images/Faulty_solar_panel/Dusty/Dust (36).jpg  \n",
            "  inflating: /content/solar-panel-images/Faulty_solar_panel/Dusty/Dust (37).jpg  \n",
            "  inflating: /content/solar-panel-images/Faulty_solar_panel/Dusty/Dust (38).jpg  \n",
            "  inflating: /content/solar-panel-images/Faulty_solar_panel/Dusty/Dust (39).jpg  \n",
            "  inflating: /content/solar-panel-images/Faulty_solar_panel/Dusty/Dust (4).jpg  \n",
            "  inflating: /content/solar-panel-images/Faulty_solar_panel/Dusty/Dust (40).jpg  \n",
            "  inflating: /content/solar-panel-images/Faulty_solar_panel/Dusty/Dust (41).jpg  \n",
            "  inflating: /content/solar-panel-images/Faulty_solar_panel/Dusty/Dust (42).jpg  \n",
            "  inflating: /content/solar-panel-images/Faulty_solar_panel/Dusty/Dust (43).jpg  \n",
            "  inflating: /content/solar-panel-images/Faulty_solar_panel/Dusty/Dust (44).jpg  \n",
            "  inflating: /content/solar-panel-images/Faulty_solar_panel/Dusty/Dust (45).jpg  \n",
            "  inflating: /content/solar-panel-images/Faulty_solar_panel/Dusty/Dust (46).jpg  \n",
            "  inflating: /content/solar-panel-images/Faulty_solar_panel/Dusty/Dust (47).jpg  \n",
            "  inflating: /content/solar-panel-images/Faulty_solar_panel/Dusty/Dust (48).jpg  \n",
            "  inflating: /content/solar-panel-images/Faulty_solar_panel/Dusty/Dust (49).jpg  \n",
            "  inflating: /content/solar-panel-images/Faulty_solar_panel/Dusty/Dust (5).jpg  \n",
            "  inflating: /content/solar-panel-images/Faulty_solar_panel/Dusty/Dust (50).jpg  \n",
            "  inflating: /content/solar-panel-images/Faulty_solar_panel/Dusty/Dust (51).jpg  \n",
            "  inflating: /content/solar-panel-images/Faulty_solar_panel/Dusty/Dust (52).jpg  \n",
            "  inflating: /content/solar-panel-images/Faulty_solar_panel/Dusty/Dust (53).jpg  \n",
            "  inflating: /content/solar-panel-images/Faulty_solar_panel/Dusty/Dust (54).jpg  \n",
            "  inflating: /content/solar-panel-images/Faulty_solar_panel/Dusty/Dust (55).jpg  \n",
            "  inflating: /content/solar-panel-images/Faulty_solar_panel/Dusty/Dust (56).jpg  \n",
            "  inflating: /content/solar-panel-images/Faulty_solar_panel/Dusty/Dust (57).jpg  \n",
            "  inflating: /content/solar-panel-images/Faulty_solar_panel/Dusty/Dust (58).jpg  \n",
            "  inflating: /content/solar-panel-images/Faulty_solar_panel/Dusty/Dust (59).jpg  \n",
            "  inflating: /content/solar-panel-images/Faulty_solar_panel/Dusty/Dust (6).jpg  \n",
            "  inflating: /content/solar-panel-images/Faulty_solar_panel/Dusty/Dust (60).jpg  \n",
            "  inflating: /content/solar-panel-images/Faulty_solar_panel/Dusty/Dust (61).jpg  \n",
            "  inflating: /content/solar-panel-images/Faulty_solar_panel/Dusty/Dust (62).jpg  \n",
            "  inflating: /content/solar-panel-images/Faulty_solar_panel/Dusty/Dust (63).jpg  \n",
            "  inflating: /content/solar-panel-images/Faulty_solar_panel/Dusty/Dust (64).jpg  \n",
            "  inflating: /content/solar-panel-images/Faulty_solar_panel/Dusty/Dust (65).jpg  \n",
            "  inflating: /content/solar-panel-images/Faulty_solar_panel/Dusty/Dust (66).jpg  \n",
            "  inflating: /content/solar-panel-images/Faulty_solar_panel/Dusty/Dust (67).jpg  \n",
            "  inflating: /content/solar-panel-images/Faulty_solar_panel/Dusty/Dust (68).jpg  \n",
            "  inflating: /content/solar-panel-images/Faulty_solar_panel/Dusty/Dust (69).jpg  \n",
            "  inflating: /content/solar-panel-images/Faulty_solar_panel/Dusty/Dust (7).jpg  \n",
            "  inflating: /content/solar-panel-images/Faulty_solar_panel/Dusty/Dust (70).jpg  \n",
            "  inflating: /content/solar-panel-images/Faulty_solar_panel/Dusty/Dust (71).jpg  \n",
            "  inflating: /content/solar-panel-images/Faulty_solar_panel/Dusty/Dust (72).jpg  \n",
            "  inflating: /content/solar-panel-images/Faulty_solar_panel/Dusty/Dust (73).jpg  \n",
            "  inflating: /content/solar-panel-images/Faulty_solar_panel/Dusty/Dust (74).jpg  \n",
            "  inflating: /content/solar-panel-images/Faulty_solar_panel/Dusty/Dust (75).jpg  \n",
            "  inflating: /content/solar-panel-images/Faulty_solar_panel/Dusty/Dust (76).jpg  \n",
            "  inflating: /content/solar-panel-images/Faulty_solar_panel/Dusty/Dust (77).jpg  \n",
            "  inflating: /content/solar-panel-images/Faulty_solar_panel/Dusty/Dust (78).jpg  \n",
            "  inflating: /content/solar-panel-images/Faulty_solar_panel/Dusty/Dust (79).jpg  \n",
            "  inflating: /content/solar-panel-images/Faulty_solar_panel/Dusty/Dust (8).jpg  \n",
            "  inflating: /content/solar-panel-images/Faulty_solar_panel/Dusty/Dust (80).jpg  \n",
            "  inflating: /content/solar-panel-images/Faulty_solar_panel/Dusty/Dust (81).jpg  \n",
            "  inflating: /content/solar-panel-images/Faulty_solar_panel/Dusty/Dust (82).jpg  \n",
            "  inflating: /content/solar-panel-images/Faulty_solar_panel/Dusty/Dust (83).jpg  \n",
            "  inflating: /content/solar-panel-images/Faulty_solar_panel/Dusty/Dust (84).jpg  \n",
            "  inflating: /content/solar-panel-images/Faulty_solar_panel/Dusty/Dust (85).jpg  \n",
            "  inflating: /content/solar-panel-images/Faulty_solar_panel/Dusty/Dust (86).jpg  \n",
            "  inflating: /content/solar-panel-images/Faulty_solar_panel/Dusty/Dust (87).jpg  \n",
            "  inflating: /content/solar-panel-images/Faulty_solar_panel/Dusty/Dust (88).jpg  \n",
            "  inflating: /content/solar-panel-images/Faulty_solar_panel/Dusty/Dust (89).jpg  \n",
            "  inflating: /content/solar-panel-images/Faulty_solar_panel/Dusty/Dust (9).jpg  \n",
            "  inflating: /content/solar-panel-images/Faulty_solar_panel/Dusty/Dust (90).jpg  \n",
            "  inflating: /content/solar-panel-images/Faulty_solar_panel/Dusty/Dust (91).jpg  \n",
            "  inflating: /content/solar-panel-images/Faulty_solar_panel/Dusty/Dust (92).jpg  \n",
            "  inflating: /content/solar-panel-images/Faulty_solar_panel/Dusty/Dust (93).jpg  \n",
            "  inflating: /content/solar-panel-images/Faulty_solar_panel/Dusty/Dust (94).jpg  \n",
            "  inflating: /content/solar-panel-images/Faulty_solar_panel/Dusty/Dust (95).jpg  \n",
            "  inflating: /content/solar-panel-images/Faulty_solar_panel/Dusty/Dust (96).jpg  \n",
            "  inflating: /content/solar-panel-images/Faulty_solar_panel/Dusty/Dust (97).jpg  \n",
            "  inflating: /content/solar-panel-images/Faulty_solar_panel/Dusty/Dust (98).jpg  \n",
            "  inflating: /content/solar-panel-images/Faulty_solar_panel/Dusty/Dust (99).jpg  \n",
            "  inflating: /content/solar-panel-images/Faulty_solar_panel/Dusty/desktop.ini  \n",
            "  inflating: /content/solar-panel-images/Faulty_solar_panel/Electrical-damage/Electrical (1).jpg  \n",
            "  inflating: /content/solar-panel-images/Faulty_solar_panel/Electrical-damage/Electrical (1).png  \n",
            "  inflating: /content/solar-panel-images/Faulty_solar_panel/Electrical-damage/Electrical (10).jpg  \n",
            "  inflating: /content/solar-panel-images/Faulty_solar_panel/Electrical-damage/Electrical (11).jpg  \n",
            "  inflating: /content/solar-panel-images/Faulty_solar_panel/Electrical-damage/Electrical (12).jpg  \n",
            "  inflating: /content/solar-panel-images/Faulty_solar_panel/Electrical-damage/Electrical (13).jpg  \n",
            "  inflating: /content/solar-panel-images/Faulty_solar_panel/Electrical-damage/Electrical (14).jpg  \n",
            "  inflating: /content/solar-panel-images/Faulty_solar_panel/Electrical-damage/Electrical (15).jpg  \n",
            "  inflating: /content/solar-panel-images/Faulty_solar_panel/Electrical-damage/Electrical (16).jpg  \n",
            "  inflating: /content/solar-panel-images/Faulty_solar_panel/Electrical-damage/Electrical (17).jpg  \n",
            "  inflating: /content/solar-panel-images/Faulty_solar_panel/Electrical-damage/Electrical (18).jpg  \n",
            "  inflating: /content/solar-panel-images/Faulty_solar_panel/Electrical-damage/Electrical (19).jpg  \n",
            "  inflating: /content/solar-panel-images/Faulty_solar_panel/Electrical-damage/Electrical (2).JPG  \n",
            "  inflating: /content/solar-panel-images/Faulty_solar_panel/Electrical-damage/Electrical (2).png  \n",
            "  inflating: /content/solar-panel-images/Faulty_solar_panel/Electrical-damage/Electrical (20).jpg  \n",
            "  inflating: /content/solar-panel-images/Faulty_solar_panel/Electrical-damage/Electrical (21).jpg  \n",
            "  inflating: /content/solar-panel-images/Faulty_solar_panel/Electrical-damage/Electrical (22).jpg  \n",
            "  inflating: /content/solar-panel-images/Faulty_solar_panel/Electrical-damage/Electrical (23).jpg  \n",
            "  inflating: /content/solar-panel-images/Faulty_solar_panel/Electrical-damage/Electrical (24).jpg  \n",
            "  inflating: /content/solar-panel-images/Faulty_solar_panel/Electrical-damage/Electrical (25).jpg  \n",
            "  inflating: /content/solar-panel-images/Faulty_solar_panel/Electrical-damage/Electrical (26).jpg  \n",
            "  inflating: /content/solar-panel-images/Faulty_solar_panel/Electrical-damage/Electrical (27).jpg  \n",
            "  inflating: /content/solar-panel-images/Faulty_solar_panel/Electrical-damage/Electrical (28).jpg  \n",
            "  inflating: /content/solar-panel-images/Faulty_solar_panel/Electrical-damage/Electrical (29).jpg  \n",
            "  inflating: /content/solar-panel-images/Faulty_solar_panel/Electrical-damage/Electrical (3).JPG  \n",
            "  inflating: /content/solar-panel-images/Faulty_solar_panel/Electrical-damage/Electrical (3).png  \n",
            "  inflating: /content/solar-panel-images/Faulty_solar_panel/Electrical-damage/Electrical (30).jpg  \n",
            "  inflating: /content/solar-panel-images/Faulty_solar_panel/Electrical-damage/Electrical (31).jpg  \n",
            "  inflating: /content/solar-panel-images/Faulty_solar_panel/Electrical-damage/Electrical (32).jpg  \n",
            "  inflating: /content/solar-panel-images/Faulty_solar_panel/Electrical-damage/Electrical (33).jpg  \n",
            "  inflating: /content/solar-panel-images/Faulty_solar_panel/Electrical-damage/Electrical (34).jpg  \n",
            "  inflating: /content/solar-panel-images/Faulty_solar_panel/Electrical-damage/Electrical (35).jpg  \n",
            "  inflating: /content/solar-panel-images/Faulty_solar_panel/Electrical-damage/Electrical (36).jpg  \n",
            "  inflating: /content/solar-panel-images/Faulty_solar_panel/Electrical-damage/Electrical (37).jpg  \n",
            "  inflating: /content/solar-panel-images/Faulty_solar_panel/Electrical-damage/Electrical (38).jpg  \n",
            "  inflating: /content/solar-panel-images/Faulty_solar_panel/Electrical-damage/Electrical (39).jpg  \n",
            "  inflating: /content/solar-panel-images/Faulty_solar_panel/Electrical-damage/Electrical (4).JPG  \n",
            "  inflating: /content/solar-panel-images/Faulty_solar_panel/Electrical-damage/Electrical (4).png  \n",
            "  inflating: /content/solar-panel-images/Faulty_solar_panel/Electrical-damage/Electrical (40).jpg  \n",
            "  inflating: /content/solar-panel-images/Faulty_solar_panel/Electrical-damage/Electrical (41).jpg  \n",
            "  inflating: /content/solar-panel-images/Faulty_solar_panel/Electrical-damage/Electrical (42).jpg  \n",
            "  inflating: /content/solar-panel-images/Faulty_solar_panel/Electrical-damage/Electrical (43).jpg  \n",
            "  inflating: /content/solar-panel-images/Faulty_solar_panel/Electrical-damage/Electrical (44).jpg  \n",
            "  inflating: /content/solar-panel-images/Faulty_solar_panel/Electrical-damage/Electrical (45).jpg  \n",
            "  inflating: /content/solar-panel-images/Faulty_solar_panel/Electrical-damage/Electrical (46).jpg  \n",
            "  inflating: /content/solar-panel-images/Faulty_solar_panel/Electrical-damage/Electrical (47).jpg  \n",
            "  inflating: /content/solar-panel-images/Faulty_solar_panel/Electrical-damage/Electrical (48).jpg  \n",
            "  inflating: /content/solar-panel-images/Faulty_solar_panel/Electrical-damage/Electrical (49).jpg  \n",
            "  inflating: /content/solar-panel-images/Faulty_solar_panel/Electrical-damage/Electrical (5).jpg  \n",
            "  inflating: /content/solar-panel-images/Faulty_solar_panel/Electrical-damage/Electrical (50).jpg  \n",
            "  inflating: /content/solar-panel-images/Faulty_solar_panel/Electrical-damage/Electrical (51).jpg  \n",
            "  inflating: /content/solar-panel-images/Faulty_solar_panel/Electrical-damage/Electrical (52).jpg  \n",
            "  inflating: /content/solar-panel-images/Faulty_solar_panel/Electrical-damage/Electrical (53).JPG  \n",
            "  inflating: /content/solar-panel-images/Faulty_solar_panel/Electrical-damage/Electrical (54).jpg  \n",
            "  inflating: /content/solar-panel-images/Faulty_solar_panel/Electrical-damage/Electrical (55).jpg  \n",
            "  inflating: /content/solar-panel-images/Faulty_solar_panel/Electrical-damage/Electrical (56).jpg  \n",
            "  inflating: /content/solar-panel-images/Faulty_solar_panel/Electrical-damage/Electrical (57).JPG  \n",
            "  inflating: /content/solar-panel-images/Faulty_solar_panel/Electrical-damage/Electrical (58).jpg  \n",
            "  inflating: /content/solar-panel-images/Faulty_solar_panel/Electrical-damage/Electrical (59).jpg  \n",
            "  inflating: /content/solar-panel-images/Faulty_solar_panel/Electrical-damage/Electrical (6).jpg  \n",
            "  inflating: /content/solar-panel-images/Faulty_solar_panel/Electrical-damage/Electrical (60).jpg  \n",
            "  inflating: /content/solar-panel-images/Faulty_solar_panel/Electrical-damage/Electrical (61).jpg  \n",
            "  inflating: /content/solar-panel-images/Faulty_solar_panel/Electrical-damage/Electrical (62).jpg  \n",
            "  inflating: /content/solar-panel-images/Faulty_solar_panel/Electrical-damage/Electrical (63).jpg  \n",
            "  inflating: /content/solar-panel-images/Faulty_solar_panel/Electrical-damage/Electrical (64).JPG  \n",
            "  inflating: /content/solar-panel-images/Faulty_solar_panel/Electrical-damage/Electrical (65).JPG  \n",
            "  inflating: /content/solar-panel-images/Faulty_solar_panel/Electrical-damage/Electrical (66).JPG  \n",
            "  inflating: /content/solar-panel-images/Faulty_solar_panel/Electrical-damage/Electrical (67).JPG  \n",
            "  inflating: /content/solar-panel-images/Faulty_solar_panel/Electrical-damage/Electrical (68).JPG  \n",
            "  inflating: /content/solar-panel-images/Faulty_solar_panel/Electrical-damage/Electrical (69).jpg  \n",
            "  inflating: /content/solar-panel-images/Faulty_solar_panel/Electrical-damage/Electrical (7).jpg  \n",
            "  inflating: /content/solar-panel-images/Faulty_solar_panel/Electrical-damage/Electrical (70).jpg  \n",
            "  inflating: /content/solar-panel-images/Faulty_solar_panel/Electrical-damage/Electrical (71).jpg  \n",
            "  inflating: /content/solar-panel-images/Faulty_solar_panel/Electrical-damage/Electrical (72).jpg  \n",
            "  inflating: /content/solar-panel-images/Faulty_solar_panel/Electrical-damage/Electrical (73).JPG  \n",
            "  inflating: /content/solar-panel-images/Faulty_solar_panel/Electrical-damage/Electrical (74).jpg  \n",
            "  inflating: /content/solar-panel-images/Faulty_solar_panel/Electrical-damage/Electrical (75).jpg  \n",
            "  inflating: /content/solar-panel-images/Faulty_solar_panel/Electrical-damage/Electrical (76).jpg  \n",
            "  inflating: /content/solar-panel-images/Faulty_solar_panel/Electrical-damage/Electrical (77).jpg  \n",
            "  inflating: /content/solar-panel-images/Faulty_solar_panel/Electrical-damage/Electrical (78).jpg  \n",
            "  inflating: /content/solar-panel-images/Faulty_solar_panel/Electrical-damage/Electrical (79).jpg  \n",
            "  inflating: /content/solar-panel-images/Faulty_solar_panel/Electrical-damage/Electrical (8).jpg  \n",
            "  inflating: /content/solar-panel-images/Faulty_solar_panel/Electrical-damage/Electrical (80).jpg  \n",
            "  inflating: /content/solar-panel-images/Faulty_solar_panel/Electrical-damage/Electrical (81).jpg  \n",
            "  inflating: /content/solar-panel-images/Faulty_solar_panel/Electrical-damage/Electrical (82).jpg  \n",
            "  inflating: /content/solar-panel-images/Faulty_solar_panel/Electrical-damage/Electrical (83).jpg  \n",
            "  inflating: /content/solar-panel-images/Faulty_solar_panel/Electrical-damage/Electrical (84).jpg  \n",
            "  inflating: /content/solar-panel-images/Faulty_solar_panel/Electrical-damage/Electrical (85).JPG  \n",
            "  inflating: /content/solar-panel-images/Faulty_solar_panel/Electrical-damage/Electrical (86).JPG  \n",
            "  inflating: /content/solar-panel-images/Faulty_solar_panel/Electrical-damage/Electrical (87).jpg  \n",
            "  inflating: /content/solar-panel-images/Faulty_solar_panel/Electrical-damage/Electrical (88).jpg  \n",
            "  inflating: /content/solar-panel-images/Faulty_solar_panel/Electrical-damage/Electrical (89).jpg  \n",
            "  inflating: /content/solar-panel-images/Faulty_solar_panel/Electrical-damage/Electrical (9).jpg  \n",
            "  inflating: /content/solar-panel-images/Faulty_solar_panel/Electrical-damage/Electrical (90).jpg  \n",
            "  inflating: /content/solar-panel-images/Faulty_solar_panel/Electrical-damage/Electrical (91).jpg  \n",
            "  inflating: /content/solar-panel-images/Faulty_solar_panel/Electrical-damage/Electrical (92).jpg  \n",
            "  inflating: /content/solar-panel-images/Faulty_solar_panel/Electrical-damage/Electrical (93).jpg  \n",
            "  inflating: /content/solar-panel-images/Faulty_solar_panel/Electrical-damage/Electrical (94).jpg  \n",
            "  inflating: /content/solar-panel-images/Faulty_solar_panel/Electrical-damage/Electrical (95).jpg  \n",
            "  inflating: /content/solar-panel-images/Faulty_solar_panel/Electrical-damage/Electrical (96).jpg  \n",
            "  inflating: /content/solar-panel-images/Faulty_solar_panel/Electrical-damage/Electrical (97).jpg  \n",
            "  inflating: /content/solar-panel-images/Faulty_solar_panel/Electrical-damage/Electrical (98).jpg  \n",
            "  inflating: /content/solar-panel-images/Faulty_solar_panel/Electrical-damage/Electrical (99).jpg  \n",
            "  inflating: /content/solar-panel-images/Faulty_solar_panel/Electrical-damage/desktop.ini  \n",
            "  inflating: /content/solar-panel-images/Faulty_solar_panel/Physical-Damage/Physical (1).jpg  \n",
            "  inflating: /content/solar-panel-images/Faulty_solar_panel/Physical-Damage/Physical (10).jpg  \n",
            "  inflating: /content/solar-panel-images/Faulty_solar_panel/Physical-Damage/Physical (11).jpg  \n",
            "  inflating: /content/solar-panel-images/Faulty_solar_panel/Physical-Damage/Physical (12).jpg  \n",
            "  inflating: /content/solar-panel-images/Faulty_solar_panel/Physical-Damage/Physical (13).jpg  \n",
            "  inflating: /content/solar-panel-images/Faulty_solar_panel/Physical-Damage/Physical (14).jpg  \n",
            "  inflating: /content/solar-panel-images/Faulty_solar_panel/Physical-Damage/Physical (15).jpg  \n",
            "  inflating: /content/solar-panel-images/Faulty_solar_panel/Physical-Damage/Physical (16).jpg  \n",
            "  inflating: /content/solar-panel-images/Faulty_solar_panel/Physical-Damage/Physical (17).jpg  \n",
            "  inflating: /content/solar-panel-images/Faulty_solar_panel/Physical-Damage/Physical (18).jpg  \n",
            "  inflating: /content/solar-panel-images/Faulty_solar_panel/Physical-Damage/Physical (19).jpg  \n",
            "  inflating: /content/solar-panel-images/Faulty_solar_panel/Physical-Damage/Physical (2).jpg  \n",
            "  inflating: /content/solar-panel-images/Faulty_solar_panel/Physical-Damage/Physical (20).jpg  \n",
            "  inflating: /content/solar-panel-images/Faulty_solar_panel/Physical-Damage/Physical (21).jpg  \n",
            "  inflating: /content/solar-panel-images/Faulty_solar_panel/Physical-Damage/Physical (22).jpg  \n",
            "  inflating: /content/solar-panel-images/Faulty_solar_panel/Physical-Damage/Physical (23).jpg  \n",
            "  inflating: /content/solar-panel-images/Faulty_solar_panel/Physical-Damage/Physical (24).jpg  \n",
            "  inflating: /content/solar-panel-images/Faulty_solar_panel/Physical-Damage/Physical (25).jpg  \n",
            "  inflating: /content/solar-panel-images/Faulty_solar_panel/Physical-Damage/Physical (26).JPG  \n",
            "  inflating: /content/solar-panel-images/Faulty_solar_panel/Physical-Damage/Physical (27).JPG  \n",
            "  inflating: /content/solar-panel-images/Faulty_solar_panel/Physical-Damage/Physical (28).jpg  \n",
            "  inflating: /content/solar-panel-images/Faulty_solar_panel/Physical-Damage/Physical (29).jpg  \n",
            "  inflating: /content/solar-panel-images/Faulty_solar_panel/Physical-Damage/Physical (3).jpg  \n",
            "  inflating: /content/solar-panel-images/Faulty_solar_panel/Physical-Damage/Physical (30).jpg  \n",
            "  inflating: /content/solar-panel-images/Faulty_solar_panel/Physical-Damage/Physical (31).jpg  \n",
            "  inflating: /content/solar-panel-images/Faulty_solar_panel/Physical-Damage/Physical (32).jpg  \n",
            "  inflating: /content/solar-panel-images/Faulty_solar_panel/Physical-Damage/Physical (33).jpg  \n",
            "  inflating: /content/solar-panel-images/Faulty_solar_panel/Physical-Damage/Physical (34).jpg  \n",
            "  inflating: /content/solar-panel-images/Faulty_solar_panel/Physical-Damage/Physical (35).jpg  \n",
            "  inflating: /content/solar-panel-images/Faulty_solar_panel/Physical-Damage/Physical (36).jpg  \n",
            "  inflating: /content/solar-panel-images/Faulty_solar_panel/Physical-Damage/Physical (37).jpg  \n",
            "  inflating: /content/solar-panel-images/Faulty_solar_panel/Physical-Damage/Physical (38).jpg  \n",
            "  inflating: /content/solar-panel-images/Faulty_solar_panel/Physical-Damage/Physical (39).jpg  \n",
            "  inflating: /content/solar-panel-images/Faulty_solar_panel/Physical-Damage/Physical (4).jpg  \n",
            "  inflating: /content/solar-panel-images/Faulty_solar_panel/Physical-Damage/Physical (40).jpg  \n",
            "  inflating: /content/solar-panel-images/Faulty_solar_panel/Physical-Damage/Physical (41).jpg  \n",
            "  inflating: /content/solar-panel-images/Faulty_solar_panel/Physical-Damage/Physical (42).jpg  \n",
            "  inflating: /content/solar-panel-images/Faulty_solar_panel/Physical-Damage/Physical (43).jpg  \n",
            "  inflating: /content/solar-panel-images/Faulty_solar_panel/Physical-Damage/Physical (44).jpg  \n",
            "  inflating: /content/solar-panel-images/Faulty_solar_panel/Physical-Damage/Physical (45).jpg  \n",
            "  inflating: /content/solar-panel-images/Faulty_solar_panel/Physical-Damage/Physical (46).jpg  \n",
            "  inflating: /content/solar-panel-images/Faulty_solar_panel/Physical-Damage/Physical (47).jpg  \n",
            "  inflating: /content/solar-panel-images/Faulty_solar_panel/Physical-Damage/Physical (48).jpg  \n",
            "  inflating: /content/solar-panel-images/Faulty_solar_panel/Physical-Damage/Physical (49).jpg  \n",
            "  inflating: /content/solar-panel-images/Faulty_solar_panel/Physical-Damage/Physical (5).jpg  \n",
            "  inflating: /content/solar-panel-images/Faulty_solar_panel/Physical-Damage/Physical (50).jpg  \n",
            "  inflating: /content/solar-panel-images/Faulty_solar_panel/Physical-Damage/Physical (51).jpg  \n",
            "  inflating: /content/solar-panel-images/Faulty_solar_panel/Physical-Damage/Physical (52).JPG  \n",
            "  inflating: /content/solar-panel-images/Faulty_solar_panel/Physical-Damage/Physical (53).jpg  \n",
            "  inflating: /content/solar-panel-images/Faulty_solar_panel/Physical-Damage/Physical (54).jpg  \n",
            "  inflating: /content/solar-panel-images/Faulty_solar_panel/Physical-Damage/Physical (55).jpg  \n",
            "  inflating: /content/solar-panel-images/Faulty_solar_panel/Physical-Damage/Physical (56).jpg  \n",
            "  inflating: /content/solar-panel-images/Faulty_solar_panel/Physical-Damage/Physical (57).jpg  \n",
            "  inflating: /content/solar-panel-images/Faulty_solar_panel/Physical-Damage/Physical (58).jpg  \n",
            "  inflating: /content/solar-panel-images/Faulty_solar_panel/Physical-Damage/Physical (59).jpg  \n",
            "  inflating: /content/solar-panel-images/Faulty_solar_panel/Physical-Damage/Physical (6).jpg  \n",
            "  inflating: /content/solar-panel-images/Faulty_solar_panel/Physical-Damage/Physical (60).jpg  \n",
            "  inflating: /content/solar-panel-images/Faulty_solar_panel/Physical-Damage/Physical (61).jpg  \n",
            "  inflating: /content/solar-panel-images/Faulty_solar_panel/Physical-Damage/Physical (62).jpg  \n",
            "  inflating: /content/solar-panel-images/Faulty_solar_panel/Physical-Damage/Physical (63).jpg  \n",
            "  inflating: /content/solar-panel-images/Faulty_solar_panel/Physical-Damage/Physical (64).jpg  \n",
            "  inflating: /content/solar-panel-images/Faulty_solar_panel/Physical-Damage/Physical (65).jpg  \n",
            "  inflating: /content/solar-panel-images/Faulty_solar_panel/Physical-Damage/Physical (66).jpg  \n",
            "  inflating: /content/solar-panel-images/Faulty_solar_panel/Physical-Damage/Physical (67).jpg  \n",
            "  inflating: /content/solar-panel-images/Faulty_solar_panel/Physical-Damage/Physical (68).jpg  \n",
            "  inflating: /content/solar-panel-images/Faulty_solar_panel/Physical-Damage/Physical (69).jpg  \n",
            "  inflating: /content/solar-panel-images/Faulty_solar_panel/Physical-Damage/Physical (7).jpg  \n",
            "  inflating: /content/solar-panel-images/Faulty_solar_panel/Physical-Damage/Physical (8).jpg  \n",
            "  inflating: /content/solar-panel-images/Faulty_solar_panel/Physical-Damage/Physical (9).jpg  \n",
            "  inflating: /content/solar-panel-images/Faulty_solar_panel/Physical-Damage/desktop.ini  \n",
            "  inflating: /content/solar-panel-images/Faulty_solar_panel/Snow-Covered/Snow (1).jpg  \n",
            "  inflating: /content/solar-panel-images/Faulty_solar_panel/Snow-Covered/Snow (10).jpg  \n",
            "  inflating: /content/solar-panel-images/Faulty_solar_panel/Snow-Covered/Snow (100).jpg  \n",
            "  inflating: /content/solar-panel-images/Faulty_solar_panel/Snow-Covered/Snow (101).jpg  \n",
            "  inflating: /content/solar-panel-images/Faulty_solar_panel/Snow-Covered/Snow (102).jpg  \n",
            "  inflating: /content/solar-panel-images/Faulty_solar_panel/Snow-Covered/Snow (103).jpg  \n",
            "  inflating: /content/solar-panel-images/Faulty_solar_panel/Snow-Covered/Snow (104).jpg  \n",
            "  inflating: /content/solar-panel-images/Faulty_solar_panel/Snow-Covered/Snow (105).jpg  \n",
            "  inflating: /content/solar-panel-images/Faulty_solar_panel/Snow-Covered/Snow (106).jpg  \n",
            "  inflating: /content/solar-panel-images/Faulty_solar_panel/Snow-Covered/Snow (107).jpg  \n",
            "  inflating: /content/solar-panel-images/Faulty_solar_panel/Snow-Covered/Snow (108).jpg  \n",
            "  inflating: /content/solar-panel-images/Faulty_solar_panel/Snow-Covered/Snow (109).jpg  \n",
            "  inflating: /content/solar-panel-images/Faulty_solar_panel/Snow-Covered/Snow (11).jpg  \n",
            "  inflating: /content/solar-panel-images/Faulty_solar_panel/Snow-Covered/Snow (110).jpg  \n",
            "  inflating: /content/solar-panel-images/Faulty_solar_panel/Snow-Covered/Snow (111).jpg  \n",
            "  inflating: /content/solar-panel-images/Faulty_solar_panel/Snow-Covered/Snow (112).jpg  \n",
            "  inflating: /content/solar-panel-images/Faulty_solar_panel/Snow-Covered/Snow (113).jpg  \n",
            "  inflating: /content/solar-panel-images/Faulty_solar_panel/Snow-Covered/Snow (114).jpg  \n",
            "  inflating: /content/solar-panel-images/Faulty_solar_panel/Snow-Covered/Snow (115).jpg  \n",
            "  inflating: /content/solar-panel-images/Faulty_solar_panel/Snow-Covered/Snow (116).jpg  \n",
            "  inflating: /content/solar-panel-images/Faulty_solar_panel/Snow-Covered/Snow (117).jpg  \n",
            "  inflating: /content/solar-panel-images/Faulty_solar_panel/Snow-Covered/Snow (118).jpg  \n",
            "  inflating: /content/solar-panel-images/Faulty_solar_panel/Snow-Covered/Snow (119).jpg  \n",
            "  inflating: /content/solar-panel-images/Faulty_solar_panel/Snow-Covered/Snow (12).jpg  \n",
            "  inflating: /content/solar-panel-images/Faulty_solar_panel/Snow-Covered/Snow (120).jpg  \n",
            "  inflating: /content/solar-panel-images/Faulty_solar_panel/Snow-Covered/Snow (121).jpg  \n",
            "  inflating: /content/solar-panel-images/Faulty_solar_panel/Snow-Covered/Snow (122).jpg  \n",
            "  inflating: /content/solar-panel-images/Faulty_solar_panel/Snow-Covered/Snow (123).jpg  \n",
            "  inflating: /content/solar-panel-images/Faulty_solar_panel/Snow-Covered/Snow (13).jpg  \n",
            "  inflating: /content/solar-panel-images/Faulty_solar_panel/Snow-Covered/Snow (14).jpg  \n",
            "  inflating: /content/solar-panel-images/Faulty_solar_panel/Snow-Covered/Snow (15).jpg  \n",
            "  inflating: /content/solar-panel-images/Faulty_solar_panel/Snow-Covered/Snow (16).jpg  \n",
            "  inflating: /content/solar-panel-images/Faulty_solar_panel/Snow-Covered/Snow (17).jpg  \n",
            "  inflating: /content/solar-panel-images/Faulty_solar_panel/Snow-Covered/Snow (18).jpg  \n",
            "  inflating: /content/solar-panel-images/Faulty_solar_panel/Snow-Covered/Snow (19).jpg  \n",
            "  inflating: /content/solar-panel-images/Faulty_solar_panel/Snow-Covered/Snow (2).jpg  \n",
            "  inflating: /content/solar-panel-images/Faulty_solar_panel/Snow-Covered/Snow (20).jpg  \n",
            "  inflating: /content/solar-panel-images/Faulty_solar_panel/Snow-Covered/Snow (21).jpg  \n",
            "  inflating: /content/solar-panel-images/Faulty_solar_panel/Snow-Covered/Snow (22).jpg  \n",
            "  inflating: /content/solar-panel-images/Faulty_solar_panel/Snow-Covered/Snow (23).jpg  \n",
            "  inflating: /content/solar-panel-images/Faulty_solar_panel/Snow-Covered/Snow (24).jpg  \n",
            "  inflating: /content/solar-panel-images/Faulty_solar_panel/Snow-Covered/Snow (25).jpg  \n",
            "  inflating: /content/solar-panel-images/Faulty_solar_panel/Snow-Covered/Snow (26).jpg  \n",
            "  inflating: /content/solar-panel-images/Faulty_solar_panel/Snow-Covered/Snow (27).jpg  \n",
            "  inflating: /content/solar-panel-images/Faulty_solar_panel/Snow-Covered/Snow (28).JPG  \n",
            "  inflating: /content/solar-panel-images/Faulty_solar_panel/Snow-Covered/Snow (29).JPG  \n",
            "  inflating: /content/solar-panel-images/Faulty_solar_panel/Snow-Covered/Snow (3).jpg  \n",
            "  inflating: /content/solar-panel-images/Faulty_solar_panel/Snow-Covered/Snow (30).JPG  \n",
            "  inflating: /content/solar-panel-images/Faulty_solar_panel/Snow-Covered/Snow (31).JPG  \n",
            "  inflating: /content/solar-panel-images/Faulty_solar_panel/Snow-Covered/Snow (32).JPG  \n",
            "  inflating: /content/solar-panel-images/Faulty_solar_panel/Snow-Covered/Snow (33).JPG  \n",
            "  inflating: /content/solar-panel-images/Faulty_solar_panel/Snow-Covered/Snow (34).jpg  \n",
            "  inflating: /content/solar-panel-images/Faulty_solar_panel/Snow-Covered/Snow (35).JPG  \n",
            "  inflating: /content/solar-panel-images/Faulty_solar_panel/Snow-Covered/Snow (36).JPG  \n",
            "  inflating: /content/solar-panel-images/Faulty_solar_panel/Snow-Covered/Snow (37).jpg  \n",
            "  inflating: /content/solar-panel-images/Faulty_solar_panel/Snow-Covered/Snow (38).jpg  \n",
            "  inflating: /content/solar-panel-images/Faulty_solar_panel/Snow-Covered/Snow (39).JPG  \n",
            "  inflating: /content/solar-panel-images/Faulty_solar_panel/Snow-Covered/Snow (4).jpg  \n",
            "  inflating: /content/solar-panel-images/Faulty_solar_panel/Snow-Covered/Snow (40).JPG  \n",
            "  inflating: /content/solar-panel-images/Faulty_solar_panel/Snow-Covered/Snow (41).jpg  \n",
            "  inflating: /content/solar-panel-images/Faulty_solar_panel/Snow-Covered/Snow (42).jpg  \n",
            "  inflating: /content/solar-panel-images/Faulty_solar_panel/Snow-Covered/Snow (43).jpg  \n",
            "  inflating: /content/solar-panel-images/Faulty_solar_panel/Snow-Covered/Snow (44).jpg  \n",
            "  inflating: /content/solar-panel-images/Faulty_solar_panel/Snow-Covered/Snow (45).jpg  \n",
            "  inflating: /content/solar-panel-images/Faulty_solar_panel/Snow-Covered/Snow (46).jpg  \n",
            "  inflating: /content/solar-panel-images/Faulty_solar_panel/Snow-Covered/Snow (47).jpg  \n",
            "  inflating: /content/solar-panel-images/Faulty_solar_panel/Snow-Covered/Snow (48).jpg  \n",
            "  inflating: /content/solar-panel-images/Faulty_solar_panel/Snow-Covered/Snow (49).jpg  \n",
            "  inflating: /content/solar-panel-images/Faulty_solar_panel/Snow-Covered/Snow (5).jpg  \n",
            "  inflating: /content/solar-panel-images/Faulty_solar_panel/Snow-Covered/Snow (50).jpg  \n",
            "  inflating: /content/solar-panel-images/Faulty_solar_panel/Snow-Covered/Snow (51).jpg  \n",
            "  inflating: /content/solar-panel-images/Faulty_solar_panel/Snow-Covered/Snow (52).jpg  \n",
            "  inflating: /content/solar-panel-images/Faulty_solar_panel/Snow-Covered/Snow (53).jpg  \n",
            "  inflating: /content/solar-panel-images/Faulty_solar_panel/Snow-Covered/Snow (54).jpg  \n",
            "  inflating: /content/solar-panel-images/Faulty_solar_panel/Snow-Covered/Snow (55).jpg  \n",
            "  inflating: /content/solar-panel-images/Faulty_solar_panel/Snow-Covered/Snow (56).jpg  \n",
            "  inflating: /content/solar-panel-images/Faulty_solar_panel/Snow-Covered/Snow (57).jpg  \n",
            "  inflating: /content/solar-panel-images/Faulty_solar_panel/Snow-Covered/Snow (58).jpg  \n",
            "  inflating: /content/solar-panel-images/Faulty_solar_panel/Snow-Covered/Snow (59).jpg  \n",
            "  inflating: /content/solar-panel-images/Faulty_solar_panel/Snow-Covered/Snow (6).jpg  \n",
            "  inflating: /content/solar-panel-images/Faulty_solar_panel/Snow-Covered/Snow (60).jpg  \n",
            "  inflating: /content/solar-panel-images/Faulty_solar_panel/Snow-Covered/Snow (61).jpg  \n",
            "  inflating: /content/solar-panel-images/Faulty_solar_panel/Snow-Covered/Snow (62).jpg  \n",
            "  inflating: /content/solar-panel-images/Faulty_solar_panel/Snow-Covered/Snow (63).jpg  \n",
            "  inflating: /content/solar-panel-images/Faulty_solar_panel/Snow-Covered/Snow (64).jpg  \n",
            "  inflating: /content/solar-panel-images/Faulty_solar_panel/Snow-Covered/Snow (65).jpg  \n",
            "  inflating: /content/solar-panel-images/Faulty_solar_panel/Snow-Covered/Snow (66).jpg  \n",
            "  inflating: /content/solar-panel-images/Faulty_solar_panel/Snow-Covered/Snow (67).jpg  \n",
            "  inflating: /content/solar-panel-images/Faulty_solar_panel/Snow-Covered/Snow (68).jpg  \n",
            "  inflating: /content/solar-panel-images/Faulty_solar_panel/Snow-Covered/Snow (69).jpg  \n",
            "  inflating: /content/solar-panel-images/Faulty_solar_panel/Snow-Covered/Snow (7).jpg  \n",
            "  inflating: /content/solar-panel-images/Faulty_solar_panel/Snow-Covered/Snow (70).jpg  \n",
            "  inflating: /content/solar-panel-images/Faulty_solar_panel/Snow-Covered/Snow (71).jpg  \n",
            "  inflating: /content/solar-panel-images/Faulty_solar_panel/Snow-Covered/Snow (72).jpg  \n",
            "  inflating: /content/solar-panel-images/Faulty_solar_panel/Snow-Covered/Snow (73).jpg  \n",
            "  inflating: /content/solar-panel-images/Faulty_solar_panel/Snow-Covered/Snow (74).jpg  \n",
            "  inflating: /content/solar-panel-images/Faulty_solar_panel/Snow-Covered/Snow (75).jpg  \n",
            "  inflating: /content/solar-panel-images/Faulty_solar_panel/Snow-Covered/Snow (76).jpg  \n",
            "  inflating: /content/solar-panel-images/Faulty_solar_panel/Snow-Covered/Snow (77).JPG  \n",
            "  inflating: /content/solar-panel-images/Faulty_solar_panel/Snow-Covered/Snow (78).jpg  \n",
            "  inflating: /content/solar-panel-images/Faulty_solar_panel/Snow-Covered/Snow (79).jpg  \n",
            "  inflating: /content/solar-panel-images/Faulty_solar_panel/Snow-Covered/Snow (8).jpg  \n",
            "  inflating: /content/solar-panel-images/Faulty_solar_panel/Snow-Covered/Snow (80).jpg  \n",
            "  inflating: /content/solar-panel-images/Faulty_solar_panel/Snow-Covered/Snow (81).JPG  \n",
            "  inflating: /content/solar-panel-images/Faulty_solar_panel/Snow-Covered/Snow (82).JPG  \n",
            "  inflating: /content/solar-panel-images/Faulty_solar_panel/Snow-Covered/Snow (83).jpg  \n",
            "  inflating: /content/solar-panel-images/Faulty_solar_panel/Snow-Covered/Snow (84).jpg  \n",
            "  inflating: /content/solar-panel-images/Faulty_solar_panel/Snow-Covered/Snow (85).jpg  \n",
            "  inflating: /content/solar-panel-images/Faulty_solar_panel/Snow-Covered/Snow (86).jpg  \n",
            "  inflating: /content/solar-panel-images/Faulty_solar_panel/Snow-Covered/Snow (87).JPG  \n",
            "  inflating: /content/solar-panel-images/Faulty_solar_panel/Snow-Covered/Snow (88).JPG  \n",
            "  inflating: /content/solar-panel-images/Faulty_solar_panel/Snow-Covered/Snow (89).jpg  \n",
            "  inflating: /content/solar-panel-images/Faulty_solar_panel/Snow-Covered/Snow (9).jpg  \n",
            "  inflating: /content/solar-panel-images/Faulty_solar_panel/Snow-Covered/Snow (90).jpg  \n",
            "  inflating: /content/solar-panel-images/Faulty_solar_panel/Snow-Covered/Snow (91).JPG  \n",
            "  inflating: /content/solar-panel-images/Faulty_solar_panel/Snow-Covered/Snow (92).JPG  \n",
            "  inflating: /content/solar-panel-images/Faulty_solar_panel/Snow-Covered/Snow (93).JPG  \n",
            "  inflating: /content/solar-panel-images/Faulty_solar_panel/Snow-Covered/Snow (94).jpg  \n",
            "  inflating: /content/solar-panel-images/Faulty_solar_panel/Snow-Covered/Snow (95).jpg  \n",
            "  inflating: /content/solar-panel-images/Faulty_solar_panel/Snow-Covered/Snow (96).jpg  \n",
            "  inflating: /content/solar-panel-images/Faulty_solar_panel/Snow-Covered/Snow (97).jpg  \n",
            "  inflating: /content/solar-panel-images/Faulty_solar_panel/Snow-Covered/Snow (98).jpg  \n",
            "  inflating: /content/solar-panel-images/Faulty_solar_panel/Snow-Covered/Snow (99).jpg  \n",
            "  inflating: /content/solar-panel-images/Faulty_solar_panel/Snow-Covered/desktop.ini  \n"
          ]
        }
      ],
      "source": [
        "!pip install kaggle\n",
        "!kaggle datasets download -d pythonafroz/solar-panel-images\n",
        "!unzip solar-panel-images.zip -d /content/solar-panel-images"
      ]
    },
    {
      "cell_type": "code",
      "execution_count": 2,
      "metadata": {
        "id": "oLENtgVEDsXi",
        "colab": {
          "base_uri": "https://localhost:8080/"
        },
        "outputId": "038f3b90-fa63-4986-b4a7-653a2343a010",
        "collapsed": true
      },
      "outputs": [
        {
          "output_type": "stream",
          "name": "stdout",
          "text": [
            "cp: cannot stat 'kaggle.json': No such file or directory\n",
            "chmod: cannot access '/root/.kaggle/kaggle.json': No such file or directory\n"
          ]
        }
      ],
      "source": [
        "!mkdir -p ~/.kaggle\n",
        "!cp kaggle.json ~/.kaggle/\n",
        "!chmod 600 ~/.kaggle/kaggle.json"
      ]
    },
    {
      "cell_type": "code",
      "execution_count": 3,
      "metadata": {
        "id": "fOA-POhcFQdw",
        "colab": {
          "base_uri": "https://localhost:8080/"
        },
        "outputId": "03969ddd-becb-4af8-9abb-ca06048e6776",
        "collapsed": true
      },
      "outputs": [
        {
          "output_type": "stream",
          "name": "stdout",
          "text": [
            "Requirement already satisfied: opencv-python in /usr/local/lib/python3.10/dist-packages (4.10.0.84)\n",
            "Requirement already satisfied: numpy>=1.21.2 in /usr/local/lib/python3.10/dist-packages (from opencv-python) (1.26.4)\n"
          ]
        }
      ],
      "source": [
        "!pip install opencv-python"
      ]
    },
    {
      "cell_type": "code",
      "execution_count": 4,
      "metadata": {
        "id": "1p6bGBUKG6y1"
      },
      "outputs": [],
      "source": [
        "import os\n",
        "import numpy as np\n",
        "import cv2\n",
        "\n",
        "def load_images_from_folder(base_path):\n",
        "    images = []\n",
        "    labels = []\n",
        "    classes = os.listdir(base_path)\n",
        "\n",
        "    for class_name in classes:\n",
        "        class_path = os.path.join(base_path, class_name)\n",
        "        if not os.path.isdir(class_path):\n",
        "            continue\n",
        "        for filename in os.listdir(class_path):\n",
        "            if filename.lower().endswith(('.png', '.jpg', '.jpeg')):\n",
        "                img_path = os.path.join(class_path, filename)\n",
        "                img = cv2.imread(img_path)\n",
        "                if img is not None:\n",
        "                    img = cv2.resize(img, (224, 224))\n",
        "                    images.append(img)\n",
        "                    labels.append(class_name)\n",
        "\n",
        "\n",
        "    return np.array(images), labels"
      ]
    },
    {
      "cell_type": "code",
      "execution_count": 5,
      "metadata": {
        "id": "dKoc-RAoHGwu"
      },
      "outputs": [],
      "source": [
        "base_path = '/content/solar-panel-images/Faulty_solar_panel'\n",
        "images, labels = load_images_from_folder(base_path)\n"
      ]
    },
    {
      "cell_type": "code",
      "execution_count": 6,
      "metadata": {
        "id": "Ra4AqHSqalgR",
        "colab": {
          "base_uri": "https://localhost:8080/"
        },
        "outputId": "f52a670c-fb6c-4fa7-cc69-0b5f90f3bb5a"
      },
      "outputs": [
        {
          "output_type": "execute_result",
          "data": {
            "text/plain": [
              "(869, 224, 224, 3)"
            ]
          },
          "metadata": {},
          "execution_count": 6
        }
      ],
      "source": [
        "images.shape"
      ]
    },
    {
      "cell_type": "code",
      "execution_count": 7,
      "metadata": {
        "id": "SCxS7duVbZVa"
      },
      "outputs": [],
      "source": [
        "\n",
        "from skimage.color import rgb2gray\n",
        "grayscale_images = []\n",
        "for img in images:\n",
        "  grayscale = rgb2gray(img)\n",
        "  grayscale_images.append(grayscale)\n",
        "grayscale_images = np.array(grayscale_images)\n"
      ]
    },
    {
      "cell_type": "code",
      "execution_count": 8,
      "metadata": {
        "collapsed": true,
        "id": "z64Ljohhc51i",
        "colab": {
          "base_uri": "https://localhost:8080/"
        },
        "outputId": "bcfe1af0-4a8a-4d53-d3b9-708410df2830"
      },
      "outputs": [
        {
          "output_type": "stream",
          "name": "stdout",
          "text": [
            "[[[0.49034588 0.49034588 0.49398471 ... 0.51078706 0.51022157 0.50742392]\n",
            "  [0.49034588 0.49034588 0.49398471 ... 0.5133098  0.51302706 0.50742392]\n",
            "  [0.49034588 0.49315137 0.4967902  ... 0.51191098 0.51191098 0.50687333]\n",
            "  ...\n",
            "  [0.13276431 0.13276431 0.13276431 ... 0.21385059 0.1892051  0.14915608]\n",
            "  [0.08375608 0.11484588 0.05742118 ... 0.20153529 0.18473294 0.14943882]\n",
            "  [0.06022667 0.12268902 0.03447216 ... 0.20909569 0.19257608 0.1334698 ]]\n",
            "\n",
            " [[0.78196157 0.76739137 0.77131294 ... 0.80743255 0.80351098 0.82704039]\n",
            "  [0.76875255 0.75306627 0.76090941 ... 0.78387333 0.77995176 0.81215765]\n",
            "  [0.76007608 0.74719529 0.75503843 ... 0.77127529 0.77127529 0.79480471]\n",
            "  ...\n",
            "  [0.70691608 0.80607137 0.71225137 ... 0.80102588 0.77749647 0.46377098]\n",
            "  [0.81082627 0.74023804 0.67554353 ... 0.70208588 0.70937843 0.83263647]\n",
            "  [0.79906157 0.74415961 0.69907294 ... 0.73011725 0.75003059 0.75311882]]\n",
            "\n",
            " [[0.11728118 0.09767333 0.13688902 ... 0.82525216 0.82525216 0.85270314]\n",
            "  [0.13296745 0.10943804 0.13296745 ... 0.80564431 0.80172275 0.81740902]\n",
            "  [0.13688902 0.12904588 0.11335961 ... 0.79780118 0.80564431 0.81348745]\n",
            "  ...\n",
            "  [0.3554902  0.15715686 0.19214549 ... 0.61907569 0.55661333 0.60731098]\n",
            "  [0.28075804 0.37654235 0.1793251  ... 0.62246941 0.62555765 0.65300863]\n",
            "  [0.24076941 0.39621059 0.20683647 ... 0.62840078 0.61860824 0.6371    ]]\n",
            "\n",
            " ...\n",
            "\n",
            " [[0.31762706 0.28568902 0.27166941 ... 0.32290353 0.37282745 0.3821    ]\n",
            "  [0.39160118 0.36498353 0.35630706 ... 0.31730745 0.32128157 0.26332902]\n",
            "  [0.44762706 0.42689529 0.40027765 ... 0.2519949  0.18336314 0.18343059]\n",
            "  ...\n",
            "  [0.36687059 0.38480392 0.39823529 ... 0.3108298  0.34360118 0.33185922]\n",
            "  [0.37135765 0.4075     0.39039216 ... 0.34529059 0.31783961 0.30999647]\n",
            "  [0.38704392 0.38088235 0.38254902 ... 0.32176118 0.29963059 0.30355216]]\n",
            "\n",
            " [[0.42017255 0.42017255 0.42017255 ... 0.47460706 0.47068549 0.47068549]\n",
            "  [0.41850588 0.42102863 0.41822314 ... 0.47460706 0.47460706 0.47460706]\n",
            "  [0.41627373 0.41879647 0.41599098 ... 0.47852863 0.47769529 0.47686196]\n",
            "  ...\n",
            "  [0.51033176 0.67392157 0.93302784 ... 0.97671569 0.84559961 0.65202118]\n",
            "  [0.78598039 0.96946078 0.99691176 ... 0.96915529 0.96245098 0.95936275]\n",
            "  [0.96862745 1.         1.         ... 0.99636118 0.99469451 0.99469451]]\n",
            "\n",
            " [[0.66780863 0.67284627 0.67284627 ... 0.7417451  0.7417451  0.7417451 ]\n",
            "  [0.67284627 0.67676784 0.68068941 ... 0.73812118 0.73812118 0.73812118]\n",
            "  [0.68068941 0.68769922 0.69245412 ... 0.74850196 0.74458039 0.73673725]\n",
            "  ...\n",
            "  [0.72319373 0.72319373 0.71535059 ... 0.15020235 0.14235922 0.14235922]\n",
            "  [0.72319373 0.72319373 0.70862353 ... 0.14628078 0.14235922 0.14235922]\n",
            "  [0.71927216 0.69574275 0.68789961 ... 0.14628078 0.14235922 0.14235922]]]\n"
          ]
        }
      ],
      "source": [
        "print(grayscale_images)"
      ]
    },
    {
      "cell_type": "code",
      "execution_count": 9,
      "metadata": {
        "id": "MuAs7dQGf-Pf"
      },
      "outputs": [],
      "source": [
        "x = grayscale_images #x=represents input data(images) y= labels\n",
        "y= labels"
      ]
    },
    {
      "cell_type": "code",
      "execution_count": 10,
      "metadata": {
        "collapsed": true,
        "id": "gXob_1g9gD-x",
        "colab": {
          "base_uri": "https://localhost:8080/"
        },
        "outputId": "9015cd16-111e-47d3-eb7e-9bffd2a145f7"
      },
      "outputs": [
        {
          "output_type": "stream",
          "name": "stdout",
          "text": [
            "['Snow-Covered', 'Snow-Covered', 'Snow-Covered', 'Snow-Covered', 'Snow-Covered', 'Snow-Covered', 'Snow-Covered', 'Snow-Covered', 'Snow-Covered', 'Snow-Covered', 'Snow-Covered', 'Snow-Covered', 'Snow-Covered', 'Snow-Covered', 'Snow-Covered', 'Snow-Covered', 'Snow-Covered', 'Snow-Covered', 'Snow-Covered', 'Snow-Covered', 'Snow-Covered', 'Snow-Covered', 'Snow-Covered', 'Snow-Covered', 'Snow-Covered', 'Snow-Covered', 'Snow-Covered', 'Snow-Covered', 'Snow-Covered', 'Snow-Covered', 'Snow-Covered', 'Snow-Covered', 'Snow-Covered', 'Snow-Covered', 'Snow-Covered', 'Snow-Covered', 'Snow-Covered', 'Snow-Covered', 'Snow-Covered', 'Snow-Covered', 'Snow-Covered', 'Snow-Covered', 'Snow-Covered', 'Snow-Covered', 'Snow-Covered', 'Snow-Covered', 'Snow-Covered', 'Snow-Covered', 'Snow-Covered', 'Snow-Covered', 'Snow-Covered', 'Snow-Covered', 'Snow-Covered', 'Snow-Covered', 'Snow-Covered', 'Snow-Covered', 'Snow-Covered', 'Snow-Covered', 'Snow-Covered', 'Snow-Covered', 'Snow-Covered', 'Snow-Covered', 'Snow-Covered', 'Snow-Covered', 'Snow-Covered', 'Snow-Covered', 'Snow-Covered', 'Snow-Covered', 'Snow-Covered', 'Snow-Covered', 'Snow-Covered', 'Snow-Covered', 'Snow-Covered', 'Snow-Covered', 'Snow-Covered', 'Snow-Covered', 'Snow-Covered', 'Snow-Covered', 'Snow-Covered', 'Snow-Covered', 'Snow-Covered', 'Snow-Covered', 'Snow-Covered', 'Snow-Covered', 'Snow-Covered', 'Snow-Covered', 'Snow-Covered', 'Snow-Covered', 'Snow-Covered', 'Snow-Covered', 'Snow-Covered', 'Snow-Covered', 'Snow-Covered', 'Snow-Covered', 'Snow-Covered', 'Snow-Covered', 'Snow-Covered', 'Snow-Covered', 'Snow-Covered', 'Snow-Covered', 'Snow-Covered', 'Snow-Covered', 'Snow-Covered', 'Snow-Covered', 'Snow-Covered', 'Snow-Covered', 'Snow-Covered', 'Snow-Covered', 'Snow-Covered', 'Snow-Covered', 'Snow-Covered', 'Snow-Covered', 'Snow-Covered', 'Snow-Covered', 'Snow-Covered', 'Snow-Covered', 'Snow-Covered', 'Snow-Covered', 'Snow-Covered', 'Snow-Covered', 'Snow-Covered', 'Snow-Covered', 'Snow-Covered', 'Bird-drop', 'Bird-drop', 'Bird-drop', 'Bird-drop', 'Bird-drop', 'Bird-drop', 'Bird-drop', 'Bird-drop', 'Bird-drop', 'Bird-drop', 'Bird-drop', 'Bird-drop', 'Bird-drop', 'Bird-drop', 'Bird-drop', 'Bird-drop', 'Bird-drop', 'Bird-drop', 'Bird-drop', 'Bird-drop', 'Bird-drop', 'Bird-drop', 'Bird-drop', 'Bird-drop', 'Bird-drop', 'Bird-drop', 'Bird-drop', 'Bird-drop', 'Bird-drop', 'Bird-drop', 'Bird-drop', 'Bird-drop', 'Bird-drop', 'Bird-drop', 'Bird-drop', 'Bird-drop', 'Bird-drop', 'Bird-drop', 'Bird-drop', 'Bird-drop', 'Bird-drop', 'Bird-drop', 'Bird-drop', 'Bird-drop', 'Bird-drop', 'Bird-drop', 'Bird-drop', 'Bird-drop', 'Bird-drop', 'Bird-drop', 'Bird-drop', 'Bird-drop', 'Bird-drop', 'Bird-drop', 'Bird-drop', 'Bird-drop', 'Bird-drop', 'Bird-drop', 'Bird-drop', 'Bird-drop', 'Bird-drop', 'Bird-drop', 'Bird-drop', 'Bird-drop', 'Bird-drop', 'Bird-drop', 'Bird-drop', 'Bird-drop', 'Bird-drop', 'Bird-drop', 'Bird-drop', 'Bird-drop', 'Bird-drop', 'Bird-drop', 'Bird-drop', 'Bird-drop', 'Bird-drop', 'Bird-drop', 'Bird-drop', 'Bird-drop', 'Bird-drop', 'Bird-drop', 'Bird-drop', 'Bird-drop', 'Bird-drop', 'Bird-drop', 'Bird-drop', 'Bird-drop', 'Bird-drop', 'Bird-drop', 'Bird-drop', 'Bird-drop', 'Bird-drop', 'Bird-drop', 'Bird-drop', 'Bird-drop', 'Bird-drop', 'Bird-drop', 'Bird-drop', 'Bird-drop', 'Bird-drop', 'Bird-drop', 'Bird-drop', 'Bird-drop', 'Bird-drop', 'Bird-drop', 'Bird-drop', 'Bird-drop', 'Bird-drop', 'Bird-drop', 'Bird-drop', 'Bird-drop', 'Bird-drop', 'Bird-drop', 'Bird-drop', 'Bird-drop', 'Bird-drop', 'Bird-drop', 'Bird-drop', 'Bird-drop', 'Bird-drop', 'Bird-drop', 'Bird-drop', 'Bird-drop', 'Bird-drop', 'Bird-drop', 'Bird-drop', 'Bird-drop', 'Bird-drop', 'Bird-drop', 'Bird-drop', 'Bird-drop', 'Bird-drop', 'Bird-drop', 'Bird-drop', 'Bird-drop', 'Bird-drop', 'Bird-drop', 'Bird-drop', 'Bird-drop', 'Bird-drop', 'Bird-drop', 'Bird-drop', 'Bird-drop', 'Bird-drop', 'Bird-drop', 'Bird-drop', 'Bird-drop', 'Bird-drop', 'Bird-drop', 'Bird-drop', 'Bird-drop', 'Bird-drop', 'Bird-drop', 'Bird-drop', 'Bird-drop', 'Bird-drop', 'Bird-drop', 'Bird-drop', 'Bird-drop', 'Bird-drop', 'Bird-drop', 'Bird-drop', 'Bird-drop', 'Bird-drop', 'Bird-drop', 'Bird-drop', 'Bird-drop', 'Bird-drop', 'Bird-drop', 'Bird-drop', 'Bird-drop', 'Bird-drop', 'Bird-drop', 'Bird-drop', 'Bird-drop', 'Bird-drop', 'Bird-drop', 'Bird-drop', 'Bird-drop', 'Bird-drop', 'Bird-drop', 'Bird-drop', 'Bird-drop', 'Bird-drop', 'Bird-drop', 'Bird-drop', 'Bird-drop', 'Bird-drop', 'Bird-drop', 'Bird-drop', 'Electrical-damage', 'Electrical-damage', 'Electrical-damage', 'Electrical-damage', 'Electrical-damage', 'Electrical-damage', 'Electrical-damage', 'Electrical-damage', 'Electrical-damage', 'Electrical-damage', 'Electrical-damage', 'Electrical-damage', 'Electrical-damage', 'Electrical-damage', 'Electrical-damage', 'Electrical-damage', 'Electrical-damage', 'Electrical-damage', 'Electrical-damage', 'Electrical-damage', 'Electrical-damage', 'Electrical-damage', 'Electrical-damage', 'Electrical-damage', 'Electrical-damage', 'Electrical-damage', 'Electrical-damage', 'Electrical-damage', 'Electrical-damage', 'Electrical-damage', 'Electrical-damage', 'Electrical-damage', 'Electrical-damage', 'Electrical-damage', 'Electrical-damage', 'Electrical-damage', 'Electrical-damage', 'Electrical-damage', 'Electrical-damage', 'Electrical-damage', 'Electrical-damage', 'Electrical-damage', 'Electrical-damage', 'Electrical-damage', 'Electrical-damage', 'Electrical-damage', 'Electrical-damage', 'Electrical-damage', 'Electrical-damage', 'Electrical-damage', 'Electrical-damage', 'Electrical-damage', 'Electrical-damage', 'Electrical-damage', 'Electrical-damage', 'Electrical-damage', 'Electrical-damage', 'Electrical-damage', 'Electrical-damage', 'Electrical-damage', 'Electrical-damage', 'Electrical-damage', 'Electrical-damage', 'Electrical-damage', 'Electrical-damage', 'Electrical-damage', 'Electrical-damage', 'Electrical-damage', 'Electrical-damage', 'Electrical-damage', 'Electrical-damage', 'Electrical-damage', 'Electrical-damage', 'Electrical-damage', 'Electrical-damage', 'Electrical-damage', 'Electrical-damage', 'Electrical-damage', 'Electrical-damage', 'Electrical-damage', 'Electrical-damage', 'Electrical-damage', 'Electrical-damage', 'Electrical-damage', 'Electrical-damage', 'Electrical-damage', 'Electrical-damage', 'Electrical-damage', 'Electrical-damage', 'Electrical-damage', 'Electrical-damage', 'Electrical-damage', 'Electrical-damage', 'Electrical-damage', 'Electrical-damage', 'Electrical-damage', 'Electrical-damage', 'Electrical-damage', 'Electrical-damage', 'Electrical-damage', 'Electrical-damage', 'Electrical-damage', 'Electrical-damage', 'Physical-Damage', 'Physical-Damage', 'Physical-Damage', 'Physical-Damage', 'Physical-Damage', 'Physical-Damage', 'Physical-Damage', 'Physical-Damage', 'Physical-Damage', 'Physical-Damage', 'Physical-Damage', 'Physical-Damage', 'Physical-Damage', 'Physical-Damage', 'Physical-Damage', 'Physical-Damage', 'Physical-Damage', 'Physical-Damage', 'Physical-Damage', 'Physical-Damage', 'Physical-Damage', 'Physical-Damage', 'Physical-Damage', 'Physical-Damage', 'Physical-Damage', 'Physical-Damage', 'Physical-Damage', 'Physical-Damage', 'Physical-Damage', 'Physical-Damage', 'Physical-Damage', 'Physical-Damage', 'Physical-Damage', 'Physical-Damage', 'Physical-Damage', 'Physical-Damage', 'Physical-Damage', 'Physical-Damage', 'Physical-Damage', 'Physical-Damage', 'Physical-Damage', 'Physical-Damage', 'Physical-Damage', 'Physical-Damage', 'Physical-Damage', 'Physical-Damage', 'Physical-Damage', 'Physical-Damage', 'Physical-Damage', 'Physical-Damage', 'Physical-Damage', 'Physical-Damage', 'Physical-Damage', 'Physical-Damage', 'Physical-Damage', 'Physical-Damage', 'Physical-Damage', 'Physical-Damage', 'Physical-Damage', 'Physical-Damage', 'Physical-Damage', 'Physical-Damage', 'Physical-Damage', 'Physical-Damage', 'Physical-Damage', 'Physical-Damage', 'Physical-Damage', 'Physical-Damage', 'Physical-Damage', 'Clean', 'Clean', 'Clean', 'Clean', 'Clean', 'Clean', 'Clean', 'Clean', 'Clean', 'Clean', 'Clean', 'Clean', 'Clean', 'Clean', 'Clean', 'Clean', 'Clean', 'Clean', 'Clean', 'Clean', 'Clean', 'Clean', 'Clean', 'Clean', 'Clean', 'Clean', 'Clean', 'Clean', 'Clean', 'Clean', 'Clean', 'Clean', 'Clean', 'Clean', 'Clean', 'Clean', 'Clean', 'Clean', 'Clean', 'Clean', 'Clean', 'Clean', 'Clean', 'Clean', 'Clean', 'Clean', 'Clean', 'Clean', 'Clean', 'Clean', 'Clean', 'Clean', 'Clean', 'Clean', 'Clean', 'Clean', 'Clean', 'Clean', 'Clean', 'Clean', 'Clean', 'Clean', 'Clean', 'Clean', 'Clean', 'Clean', 'Clean', 'Clean', 'Clean', 'Clean', 'Clean', 'Clean', 'Clean', 'Clean', 'Clean', 'Clean', 'Clean', 'Clean', 'Clean', 'Clean', 'Clean', 'Clean', 'Clean', 'Clean', 'Clean', 'Clean', 'Clean', 'Clean', 'Clean', 'Clean', 'Clean', 'Clean', 'Clean', 'Clean', 'Clean', 'Clean', 'Clean', 'Clean', 'Clean', 'Clean', 'Clean', 'Clean', 'Clean', 'Clean', 'Clean', 'Clean', 'Clean', 'Clean', 'Clean', 'Clean', 'Clean', 'Clean', 'Clean', 'Clean', 'Clean', 'Clean', 'Clean', 'Clean', 'Clean', 'Clean', 'Clean', 'Clean', 'Clean', 'Clean', 'Clean', 'Clean', 'Clean', 'Clean', 'Clean', 'Clean', 'Clean', 'Clean', 'Clean', 'Clean', 'Clean', 'Clean', 'Clean', 'Clean', 'Clean', 'Clean', 'Clean', 'Clean', 'Clean', 'Clean', 'Clean', 'Clean', 'Clean', 'Clean', 'Clean', 'Clean', 'Clean', 'Clean', 'Clean', 'Clean', 'Clean', 'Clean', 'Clean', 'Clean', 'Clean', 'Clean', 'Clean', 'Clean', 'Clean', 'Clean', 'Clean', 'Clean', 'Clean', 'Clean', 'Clean', 'Clean', 'Clean', 'Clean', 'Clean', 'Clean', 'Clean', 'Clean', 'Clean', 'Clean', 'Clean', 'Clean', 'Clean', 'Clean', 'Clean', 'Clean', 'Clean', 'Clean', 'Clean', 'Clean', 'Clean', 'Clean', 'Clean', 'Clean', 'Clean', 'Dusty', 'Dusty', 'Dusty', 'Dusty', 'Dusty', 'Dusty', 'Dusty', 'Dusty', 'Dusty', 'Dusty', 'Dusty', 'Dusty', 'Dusty', 'Dusty', 'Dusty', 'Dusty', 'Dusty', 'Dusty', 'Dusty', 'Dusty', 'Dusty', 'Dusty', 'Dusty', 'Dusty', 'Dusty', 'Dusty', 'Dusty', 'Dusty', 'Dusty', 'Dusty', 'Dusty', 'Dusty', 'Dusty', 'Dusty', 'Dusty', 'Dusty', 'Dusty', 'Dusty', 'Dusty', 'Dusty', 'Dusty', 'Dusty', 'Dusty', 'Dusty', 'Dusty', 'Dusty', 'Dusty', 'Dusty', 'Dusty', 'Dusty', 'Dusty', 'Dusty', 'Dusty', 'Dusty', 'Dusty', 'Dusty', 'Dusty', 'Dusty', 'Dusty', 'Dusty', 'Dusty', 'Dusty', 'Dusty', 'Dusty', 'Dusty', 'Dusty', 'Dusty', 'Dusty', 'Dusty', 'Dusty', 'Dusty', 'Dusty', 'Dusty', 'Dusty', 'Dusty', 'Dusty', 'Dusty', 'Dusty', 'Dusty', 'Dusty', 'Dusty', 'Dusty', 'Dusty', 'Dusty', 'Dusty', 'Dusty', 'Dusty', 'Dusty', 'Dusty', 'Dusty', 'Dusty', 'Dusty', 'Dusty', 'Dusty', 'Dusty', 'Dusty', 'Dusty', 'Dusty', 'Dusty', 'Dusty', 'Dusty', 'Dusty', 'Dusty', 'Dusty', 'Dusty', 'Dusty', 'Dusty', 'Dusty', 'Dusty', 'Dusty', 'Dusty', 'Dusty', 'Dusty', 'Dusty', 'Dusty', 'Dusty', 'Dusty', 'Dusty', 'Dusty', 'Dusty', 'Dusty', 'Dusty', 'Dusty', 'Dusty', 'Dusty', 'Dusty', 'Dusty', 'Dusty', 'Dusty', 'Dusty', 'Dusty', 'Dusty', 'Dusty', 'Dusty', 'Dusty', 'Dusty', 'Dusty', 'Dusty', 'Dusty', 'Dusty', 'Dusty', 'Dusty', 'Dusty', 'Dusty', 'Dusty', 'Dusty', 'Dusty', 'Dusty', 'Dusty', 'Dusty', 'Dusty', 'Dusty', 'Dusty', 'Dusty', 'Dusty', 'Dusty', 'Dusty', 'Dusty', 'Dusty', 'Dusty', 'Dusty', 'Dusty', 'Dusty', 'Dusty', 'Dusty', 'Dusty', 'Dusty', 'Dusty', 'Dusty', 'Dusty', 'Dusty', 'Dusty', 'Dusty', 'Dusty', 'Dusty', 'Dusty', 'Dusty', 'Dusty', 'Dusty', 'Dusty', 'Dusty', 'Dusty', 'Dusty', 'Dusty', 'Dusty', 'Dusty', 'Dusty', 'Dusty', 'Dusty', 'Dusty']\n"
          ]
        }
      ],
      "source": [
        "print(y)"
      ]
    },
    {
      "cell_type": "code",
      "execution_count": 11,
      "metadata": {
        "id": "QhKCfSZ0H5z7"
      },
      "outputs": [],
      "source": [
        "from sklearn.preprocessing import LabelEncoder"
      ]
    },
    {
      "cell_type": "code",
      "execution_count": 12,
      "metadata": {
        "collapsed": true,
        "id": "61Rgvj31IIsJ",
        "colab": {
          "base_uri": "https://localhost:8080/"
        },
        "outputId": "022e4efb-c3b1-4877-8aee-87f8d447a3c5"
      },
      "outputs": [
        {
          "output_type": "stream",
          "name": "stdout",
          "text": [
            "[5 5 5 5 5 5 5 5 5 5 5 5 5 5 5 5 5 5 5 5 5 5 5 5 5 5 5 5 5 5 5 5 5 5 5 5 5\n",
            " 5 5 5 5 5 5 5 5 5 5 5 5 5 5 5 5 5 5 5 5 5 5 5 5 5 5 5 5 5 5 5 5 5 5 5 5 5\n",
            " 5 5 5 5 5 5 5 5 5 5 5 5 5 5 5 5 5 5 5 5 5 5 5 5 5 5 5 5 5 5 5 5 5 5 5 5 5\n",
            " 5 5 5 5 5 5 5 5 5 5 5 5 0 0 0 0 0 0 0 0 0 0 0 0 0 0 0 0 0 0 0 0 0 0 0 0 0\n",
            " 0 0 0 0 0 0 0 0 0 0 0 0 0 0 0 0 0 0 0 0 0 0 0 0 0 0 0 0 0 0 0 0 0 0 0 0 0\n",
            " 0 0 0 0 0 0 0 0 0 0 0 0 0 0 0 0 0 0 0 0 0 0 0 0 0 0 0 0 0 0 0 0 0 0 0 0 0\n",
            " 0 0 0 0 0 0 0 0 0 0 0 0 0 0 0 0 0 0 0 0 0 0 0 0 0 0 0 0 0 0 0 0 0 0 0 0 0\n",
            " 0 0 0 0 0 0 0 0 0 0 0 0 0 0 0 0 0 0 0 0 0 0 0 0 0 0 0 0 0 0 0 0 0 0 0 0 0\n",
            " 0 0 0 0 0 0 0 0 0 0 0 0 0 0 0 0 0 0 3 3 3 3 3 3 3 3 3 3 3 3 3 3 3 3 3 3 3\n",
            " 3 3 3 3 3 3 3 3 3 3 3 3 3 3 3 3 3 3 3 3 3 3 3 3 3 3 3 3 3 3 3 3 3 3 3 3 3\n",
            " 3 3 3 3 3 3 3 3 3 3 3 3 3 3 3 3 3 3 3 3 3 3 3 3 3 3 3 3 3 3 3 3 3 3 3 3 3\n",
            " 3 3 3 3 3 3 3 3 3 3 4 4 4 4 4 4 4 4 4 4 4 4 4 4 4 4 4 4 4 4 4 4 4 4 4 4 4\n",
            " 4 4 4 4 4 4 4 4 4 4 4 4 4 4 4 4 4 4 4 4 4 4 4 4 4 4 4 4 4 4 4 4 4 4 4 4 4\n",
            " 4 4 4 4 4 1 1 1 1 1 1 1 1 1 1 1 1 1 1 1 1 1 1 1 1 1 1 1 1 1 1 1 1 1 1 1 1\n",
            " 1 1 1 1 1 1 1 1 1 1 1 1 1 1 1 1 1 1 1 1 1 1 1 1 1 1 1 1 1 1 1 1 1 1 1 1 1\n",
            " 1 1 1 1 1 1 1 1 1 1 1 1 1 1 1 1 1 1 1 1 1 1 1 1 1 1 1 1 1 1 1 1 1 1 1 1 1\n",
            " 1 1 1 1 1 1 1 1 1 1 1 1 1 1 1 1 1 1 1 1 1 1 1 1 1 1 1 1 1 1 1 1 1 1 1 1 1\n",
            " 1 1 1 1 1 1 1 1 1 1 1 1 1 1 1 1 1 1 1 1 1 1 1 1 1 1 1 1 1 1 1 1 1 1 1 1 1\n",
            " 1 1 1 1 1 1 1 1 1 1 1 1 1 2 2 2 2 2 2 2 2 2 2 2 2 2 2 2 2 2 2 2 2 2 2 2 2\n",
            " 2 2 2 2 2 2 2 2 2 2 2 2 2 2 2 2 2 2 2 2 2 2 2 2 2 2 2 2 2 2 2 2 2 2 2 2 2\n",
            " 2 2 2 2 2 2 2 2 2 2 2 2 2 2 2 2 2 2 2 2 2 2 2 2 2 2 2 2 2 2 2 2 2 2 2 2 2\n",
            " 2 2 2 2 2 2 2 2 2 2 2 2 2 2 2 2 2 2 2 2 2 2 2 2 2 2 2 2 2 2 2 2 2 2 2 2 2\n",
            " 2 2 2 2 2 2 2 2 2 2 2 2 2 2 2 2 2 2 2 2 2 2 2 2 2 2 2 2 2 2 2 2 2 2 2 2 2\n",
            " 2 2 2 2 2 2 2 2 2 2 2 2 2 2 2 2 2 2]\n"
          ]
        }
      ],
      "source": [
        "label_encoder = LabelEncoder()\n",
        "y_numeric = label_encoder.fit_transform(y)\n",
        "print(y_numeric)"
      ]
    },
    {
      "cell_type": "code",
      "execution_count": 14,
      "metadata": {
        "id": "KSyQRC7xIVnc"
      },
      "outputs": [],
      "source": [
        "\n",
        "from sklearn.model_selection import train_test_split\n",
        "x_flattened = x.reshape(x.shape[0], -1)\n",
        "x_train, x_test, y_train, y_test = train_test_split(x_flattened, y_numeric, test_size=0.2, random_state=42)"
      ]
    },
    {
      "cell_type": "code",
      "execution_count": 15,
      "metadata": {
        "id": "ZFk0uG_4I2vj",
        "colab": {
          "base_uri": "https://localhost:8080/"
        },
        "outputId": "1db596d7-af72-4886-e7f9-f9fab6560b12"
      },
      "outputs": [
        {
          "output_type": "stream",
          "name": "stdout",
          "text": [
            "0.5287356321839081\n",
            "Precision: 0.5324758662317824\n",
            "Recall: 0.5287356321839081\n",
            "F1 Score: 0.524962756490875\n"
          ]
        },
        {
          "output_type": "stream",
          "name": "stderr",
          "text": [
            "/usr/local/lib/python3.10/dist-packages/sklearn/linear_model/_logistic.py:469: ConvergenceWarning: lbfgs failed to converge (status=1):\n",
            "STOP: TOTAL NO. of ITERATIONS REACHED LIMIT.\n",
            "\n",
            "Increase the number of iterations (max_iter) or scale the data as shown in:\n",
            "    https://scikit-learn.org/stable/modules/preprocessing.html\n",
            "Please also refer to the documentation for alternative solver options:\n",
            "    https://scikit-learn.org/stable/modules/linear_model.html#logistic-regression\n",
            "  n_iter_i = _check_optimize_result(\n"
          ]
        }
      ],
      "source": [
        "from sklearn.linear_model import LogisticRegression\n",
        "clf = LogisticRegression(random_state=42).fit(x_train, y_train)\n",
        "clf.score(x_test, y_test)\n",
        "print(clf.score(x_test, y_test))\n",
        "from sklearn.metrics import precision_score\n",
        "y_pred = clf.predict(x_test)\n",
        "precision = precision_score(y_test, y_pred, average='weighted')\n",
        "print(\"Precision:\", precision)\n",
        "from sklearn.metrics import recall_score\n",
        "recall = recall_score(y_test, y_pred, average='weighted')\n",
        "print(\"Recall:\", recall)\n",
        "from sklearn.metrics import f1_score\n",
        "f1 = f1_score(y_test, y_pred, average='weighted')\n",
        "print(\"F1 Score:\", f1)"
      ]
    },
    {
      "cell_type": "code",
      "source": [
        "from sklearn.metrics import ConfusionMatrixDisplay\n",
        "ConfusionMatrixDisplay.from_estimator(clf, x_test, y_test)"
      ],
      "metadata": {
        "id": "sY7-2W5Te2kJ",
        "colab": {
          "base_uri": "https://localhost:8080/",
          "height": 473
        },
        "outputId": "5500a56f-9291-4f1f-aec7-735dd97aca35"
      },
      "execution_count": 16,
      "outputs": [
        {
          "output_type": "execute_result",
          "data": {
            "text/plain": [
              "<sklearn.metrics._plot.confusion_matrix.ConfusionMatrixDisplay at 0x7fb0af9b8d60>"
            ]
          },
          "metadata": {},
          "execution_count": 16
        },
        {
          "output_type": "display_data",
          "data": {
            "text/plain": [
              "<Figure size 640x480 with 2 Axes>"
            ],
            "image/png": "[encoded data removed]"
          },
          "metadata": {}
        }
      ]
    },
    {
      "cell_type": "code",
      "execution_count": 17,
      "metadata": {
        "id": "VD6jyQ3-J2_i",
        "colab": {
          "base_uri": "https://localhost:8080/"
        },
        "outputId": "7d045617-e42e-4d33-d56c-f7f30a239a6c"
      },
      "outputs": [
        {
          "output_type": "stream",
          "name": "stdout",
          "text": [
            "0.5689655172413793\n",
            "Precision: 0.5922459886295043\n",
            "Recall: 0.5689655172413793\n",
            "F1 Score: 0.5667275263810335\n"
          ]
        }
      ],
      "source": [
        "\n",
        "from sklearn.linear_model import RidgeClassifier\n",
        "clf1 = RidgeClassifier(random_state=42).fit(x_train, y_train)\n",
        "clf1.score(x_test, y_test)\n",
        "print(clf1.score(x_test, y_test))\n",
        "from sklearn.metrics import precision_score\n",
        "y_pred = clf1.predict(x_test)\n",
        "precision = precision_score(y_test, y_pred, average='weighted')\n",
        "print(\"Precision:\", precision)\n",
        "from sklearn.metrics import recall_score\n",
        "recall = recall_score(y_test, y_pred, average='weighted')\n",
        "print(\"Recall:\", recall)\n",
        "from sklearn.metrics import f1_score\n",
        "f1 = f1_score(y_test, y_pred, average='weighted')\n",
        "print(\"F1 Score:\", f1)"
      ]
    },
    {
      "cell_type": "code",
      "source": [
        "from sklearn.metrics import ConfusionMatrixDisplay\n",
        "ConfusionMatrixDisplay.from_estimator(clf1, x_test, y_test)"
      ],
      "metadata": {
        "id": "OBAn_acRf1GP",
        "colab": {
          "base_uri": "https://localhost:8080/",
          "height": 467
        },
        "outputId": "4d90f70b-61b6-4276-e21e-1a055294dee3"
      },
      "execution_count": 18,
      "outputs": [
        {
          "output_type": "execute_result",
          "data": {
            "text/plain": [
              "<sklearn.metrics._plot.confusion_matrix.ConfusionMatrixDisplay at 0x7fb0afa2c640>"
            ]
          },
          "metadata": {},
          "execution_count": 18
        },
        {
          "output_type": "display_data",
          "data": {
            "text/plain": [
              "<Figure size 640x480 with 2 Axes>"
            ],
            "image/png": "[encoded data removed]"
          },
          "metadata": {}
        }
      ]
    },
    {
      "cell_type": "code",
      "execution_count": 19,
      "metadata": {
        "id": "5IucGdq7zimF",
        "colab": {
          "base_uri": "https://localhost:8080/"
        },
        "outputId": "9a8481ba-9893-4e3e-a4ad-caa0f91a0530"
      },
      "outputs": [
        {
          "output_type": "stream",
          "name": "stdout",
          "text": [
            "0.4942528735632184\n",
            "Precision: 0.4618895280281358\n",
            "Recall: 0.4942528735632184\n",
            "F1 Score: 0.4453909525894284\n"
          ]
        },
        {
          "output_type": "stream",
          "name": "stderr",
          "text": [
            "/usr/local/lib/python3.10/dist-packages/sklearn/metrics/_classification.py:1531: UndefinedMetricWarning: Precision is ill-defined and being set to 0.0 in labels with no predicted samples. Use `zero_division` parameter to control this behavior.\n",
            "  _warn_prf(average, modifier, f\"{metric.capitalize()} is\", len(result))\n"
          ]
        }
      ],
      "source": [
        "from sklearn.ensemble import RandomForestClassifier\n",
        "regr = RandomForestClassifier(max_depth=2, random_state=0)\n",
        "regr.fit(x_train, y_train)\n",
        "regr.score(x_test, y_test)\n",
        "print(regr.score(x_test, y_test))\n",
        "from sklearn.metrics import precision_score\n",
        "y_pred = regr.predict(x_test)\n",
        "precision = precision_score(y_test, y_pred, average='weighted')\n",
        "print(\"Precision:\", precision)\n",
        "from sklearn.metrics import recall_score\n",
        "recall = recall_score(y_test, y_pred, average='weighted')\n",
        "print(\"Recall:\", recall)\n",
        "from sklearn.metrics import f1_score\n",
        "f1 = f1_score(y_test, y_pred, average='weighted')\n",
        "print(\"F1 Score:\", f1)"
      ]
    },
    {
      "cell_type": "code",
      "source": [
        "from sklearn.metrics import ConfusionMatrixDisplay\n",
        "ConfusionMatrixDisplay.from_estimator(regr, x_test, y_test)"
      ],
      "metadata": {
        "id": "Tsxj6XPYgbPO",
        "colab": {
          "base_uri": "https://localhost:8080/",
          "height": 473
        },
        "outputId": "77a913da-9519-408f-b6e8-9572991fb9a6"
      },
      "execution_count": 20,
      "outputs": [
        {
          "output_type": "execute_result",
          "data": {
            "text/plain": [
              "<sklearn.metrics._plot.confusion_matrix.ConfusionMatrixDisplay at 0x7fb1250ee200>"
            ]
          },
          "metadata": {},
          "execution_count": 20
        },
        {
          "output_type": "display_data",
          "data": {
            "text/plain": [
              "<Figure size 640x480 with 2 Axes>"
            ],
            "image/png": "[encoded data removed]"
          },
          "metadata": {}
        }
      ]
    },
    {
      "cell_type": "code",
      "execution_count": 21,
      "metadata": {
        "id": "cVfEk7k61Up5",
        "colab": {
          "base_uri": "https://localhost:8080/"
        },
        "outputId": "3a0cccae-2af8-48f7-c21f-b98b130b0533"
      },
      "outputs": [
        {
          "output_type": "stream",
          "name": "stdout",
          "text": [
            "0.4827586206896552\n",
            "Precision: 0.5020811168825751\n",
            "Recall: 0.4827586206896552\n",
            "F1 Score: 0.48119391435564274\n"
          ]
        }
      ],
      "source": [
        "\n",
        "from sklearn.tree import DecisionTreeClassifier\n",
        "clf2 = DecisionTreeClassifier(random_state=42).fit(x_train, y_train)\n",
        "clf2.score(x_test, y_test)\n",
        "print(clf2.score(x_test, y_test))\n",
        "from sklearn.metrics import precision_score\n",
        "y_pred = clf2.predict(x_test)\n",
        "precision = precision_score(y_test, y_pred, average='weighted')\n",
        "print(\"Precision:\", precision)\n",
        "from sklearn.metrics import recall_score\n",
        "recall = recall_score(y_test, y_pred, average='weighted')\n",
        "print(\"Recall:\", recall)\n",
        "from sklearn.metrics import f1_score\n",
        "f1 = f1_score(y_test, y_pred, average='weighted')\n",
        "print(\"F1 Score:\", f1)\n"
      ]
    },
    {
      "cell_type": "code",
      "source": [
        "from sklearn.metrics import ConfusionMatrixDisplay\n",
        "ConfusionMatrixDisplay.from_estimator(clf2, x_test, y_test)"
      ],
      "metadata": {
        "id": "zpPDfUZ7ghvP",
        "colab": {
          "base_uri": "https://localhost:8080/",
          "height": 467
        },
        "outputId": "7b1e99dc-9828-461c-a7f9-fd57a0fbc754"
      },
      "execution_count": 22,
      "outputs": [
        {
          "output_type": "execute_result",
          "data": {
            "text/plain": [
              "<sklearn.metrics._plot.confusion_matrix.ConfusionMatrixDisplay at 0x7fb0a81b7b20>"
            ]
          },
          "metadata": {},
          "execution_count": 22
        },
        {
          "output_type": "display_data",
          "data": {
            "text/plain": [
              "<Figure size 640x480 with 2 Axes>"
            ],
            "image/png": "[encoded data removed]"
          },
          "metadata": {}
        }
      ]
    },
    {
      "cell_type": "code",
      "execution_count": 23,
      "metadata": {
        "id": "3SlaMgtn2THS",
        "colab": {
          "base_uri": "https://localhost:8080/"
        },
        "outputId": "6845a444-6490-45ed-9057-9f6b5803821b"
      },
      "outputs": [
        {
          "output_type": "stream",
          "name": "stdout",
          "text": [
            "0.6264367816091954\n",
            "Precision: 0.6859477772211554\n",
            "Recall: 0.6264367816091954\n",
            "F1 Score: 0.620723366816842\n"
          ]
        }
      ],
      "source": [
        "from sklearn.preprocessing import StandardScaler\n",
        "from sklearn.pipeline import make_pipeline\n",
        "from sklearn.svm import SVC\n",
        "clf3 = make_pipeline(StandardScaler(), SVC(gamma='auto'))\n",
        "clf3.fit(x_train, y_train)\n",
        "\n",
        "clf3.score(x_test, y_test)\n",
        "print(clf3.score(x_test, y_test))\n",
        "from sklearn.metrics import precision_score\n",
        "y_pred = clf3.predict(x_test)\n",
        "precision = precision_score(y_test, y_pred, average='weighted')\n",
        "print(\"Precision:\", precision)\n",
        "from sklearn.metrics import recall_score\n",
        "recall = recall_score(y_test, y_pred, average='weighted')\n",
        "print(\"Recall:\", recall)\n",
        "from sklearn.metrics import f1_score\n",
        "f1 = f1_score(y_test, y_pred, average='weighted')\n",
        "print(\"F1 Score:\", f1)"
      ]
    },
    {
      "cell_type": "code",
      "execution_count": 24,
      "metadata": {
        "id": "ENBufRA-3FIT",
        "colab": {
          "base_uri": "https://localhost:8080/",
          "height": 473
        },
        "outputId": "3b0d076d-3fb6-4543-a21f-9c3e1285cd05"
      },
      "outputs": [
        {
          "output_type": "execute_result",
          "data": {
            "text/plain": [
              "<sklearn.metrics._plot.confusion_matrix.ConfusionMatrixDisplay at 0x7fb0aef8c5b0>"
            ]
          },
          "metadata": {},
          "execution_count": 24
        },
        {
          "output_type": "display_data",
          "data": {
            "text/plain": [
              "<Figure size 640x480 with 2 Axes>"
            ],
            "image/png": "[encoded data removed]"
          },
          "metadata": {}
        }
      ],
      "source": [
        "\n",
        "from sklearn.metrics import ConfusionMatrixDisplay\n",
        "ConfusionMatrixDisplay.from_estimator(clf3, x_test, y_test)\n",
        "\n",
        "\n",
        "\n"
      ]
    },
    {
      "cell_type": "code",
      "execution_count": 25,
      "metadata": {
        "id": "gHCgd3Kg3_Q-",
        "collapsed": true,
        "colab": {
          "base_uri": "https://localhost:8080/"
        },
        "outputId": "0098fd65-38b3-42b0-f9d3-439f98302af8"
      },
      "outputs": [
        {
          "output_type": "stream",
          "name": "stdout",
          "text": [
            "Requirement already satisfied: tensorflow in /usr/local/lib/python3.10/dist-packages (2.17.0)\n",
            "Requirement already satisfied: numpy in /usr/local/lib/python3.10/dist-packages (1.26.4)\n",
            "Collecting mnist\n",
            "  Downloading mnist-0.2.2-py2.py3-none-any.whl.metadata (1.6 kB)\n",
            "Requirement already satisfied: absl-py>=1.0.0 in /usr/local/lib/python3.10/dist-packages (from tensorflow) (1.4.0)\n",
            "Requirement already satisfied: astunparse>=1.6.0 in /usr/local/lib/python3.10/dist-packages (from tensorflow) (1.6.3)\n",
            "Requirement already satisfied: flatbuffers>=24.3.25 in /usr/local/lib/python3.10/dist-packages (from tensorflow) (24.3.25)\n",
            "Requirement already satisfied: gast!=0.5.0,!=0.5.1,!=0.5.2,>=0.2.1 in /usr/local/lib/python3.10/dist-packages (from tensorflow) (0.6.0)\n",
            "Requirement already satisfied: google-pasta>=0.1.1 in /usr/local/lib/python3.10/dist-packages (from tensorflow) (0.2.0)\n",
            "Requirement already satisfied: h5py>=3.10.0 in /usr/local/lib/python3.10/dist-packages (from tensorflow) (3.11.0)\n",
            "Requirement already satisfied: libclang>=13.0.0 in /usr/local/lib/python3.10/dist-packages (from tensorflow) (18.1.1)\n",
            "Requirement already satisfied: ml-dtypes<0.5.0,>=0.3.1 in /usr/local/lib/python3.10/dist-packages (from tensorflow) (0.4.1)\n",
            "Requirement already satisfied: opt-einsum>=2.3.2 in /usr/local/lib/python3.10/dist-packages (from tensorflow) (3.4.0)\n",
            "Requirement already satisfied: packaging in /usr/local/lib/python3.10/dist-packages (from tensorflow) (24.1)\n",
            "Requirement already satisfied: protobuf!=4.21.0,!=4.21.1,!=4.21.2,!=4.21.3,!=4.21.4,!=4.21.5,<5.0.0dev,>=3.20.3 in /usr/local/lib/python3.10/dist-packages (from tensorflow) (3.20.3)\n",
            "Requirement already satisfied: requests<3,>=2.21.0 in /usr/local/lib/python3.10/dist-packages (from tensorflow) (2.32.3)\n",
            "Requirement already satisfied: setuptools in /usr/local/lib/python3.10/dist-packages (from tensorflow) (71.0.4)\n",
            "Requirement already satisfied: six>=1.12.0 in /usr/local/lib/python3.10/dist-packages (from tensorflow) (1.16.0)\n",
            "Requirement already satisfied: termcolor>=1.1.0 in /usr/local/lib/python3.10/dist-packages (from tensorflow) (2.5.0)\n",
            "Requirement already satisfied: typing-extensions>=3.6.6 in /usr/local/lib/python3.10/dist-packages (from tensorflow) (4.12.2)\n",
            "Requirement already satisfied: wrapt>=1.11.0 in /usr/local/lib/python3.10/dist-packages (from tensorflow) (1.16.0)\n",
            "Requirement already satisfied: grpcio<2.0,>=1.24.3 in /usr/local/lib/python3.10/dist-packages (from tensorflow) (1.64.1)\n",
            "Requirement already satisfied: tensorboard<2.18,>=2.17 in /usr/local/lib/python3.10/dist-packages (from tensorflow) (2.17.0)\n",
            "Requirement already satisfied: keras>=3.2.0 in /usr/local/lib/python3.10/dist-packages (from tensorflow) (3.4.1)\n",
            "Requirement already satisfied: tensorflow-io-gcs-filesystem>=0.23.1 in /usr/local/lib/python3.10/dist-packages (from tensorflow) (0.37.1)\n",
            "Requirement already satisfied: wheel<1.0,>=0.23.0 in /usr/local/lib/python3.10/dist-packages (from astunparse>=1.6.0->tensorflow) (0.44.0)\n",
            "Requirement already satisfied: rich in /usr/local/lib/python3.10/dist-packages (from keras>=3.2.0->tensorflow) (13.9.2)\n",
            "Requirement already satisfied: namex in /usr/local/lib/python3.10/dist-packages (from keras>=3.2.0->tensorflow) (0.0.8)\n",
            "Requirement already satisfied: optree in /usr/local/lib/python3.10/dist-packages (from keras>=3.2.0->tensorflow) (0.13.0)\n",
            "Requirement already satisfied: charset-normalizer<4,>=2 in /usr/local/lib/python3.10/dist-packages (from requests<3,>=2.21.0->tensorflow) (3.4.0)\n",
            "Requirement already satisfied: idna<4,>=2.5 in /usr/local/lib/python3.10/dist-packages (from requests<3,>=2.21.0->tensorflow) (3.10)\n",
            "Requirement already satisfied: urllib3<3,>=1.21.1 in /usr/local/lib/python3.10/dist-packages (from requests<3,>=2.21.0->tensorflow) (2.2.3)\n",
            "Requirement already satisfied: certifi>=2017.4.17 in /usr/local/lib/python3.10/dist-packages (from requests<3,>=2.21.0->tensorflow) (2024.8.30)\n",
            "Requirement already satisfied: markdown>=2.6.8 in /usr/local/lib/python3.10/dist-packages (from tensorboard<2.18,>=2.17->tensorflow) (3.7)\n",
            "Requirement already satisfied: tensorboard-data-server<0.8.0,>=0.7.0 in /usr/local/lib/python3.10/dist-packages (from tensorboard<2.18,>=2.17->tensorflow) (0.7.2)\n",
            "Requirement already satisfied: werkzeug>=1.0.1 in /usr/local/lib/python3.10/dist-packages (from tensorboard<2.18,>=2.17->tensorflow) (3.0.4)\n",
            "Requirement already satisfied: MarkupSafe>=2.1.1 in /usr/local/lib/python3.10/dist-packages (from werkzeug>=1.0.1->tensorboard<2.18,>=2.17->tensorflow) (3.0.1)\n",
            "Requirement already satisfied: markdown-it-py>=2.2.0 in /usr/local/lib/python3.10/dist-packages (from rich->keras>=3.2.0->tensorflow) (3.0.0)\n",
            "Requirement already satisfied: pygments<3.0.0,>=2.13.0 in /usr/local/lib/python3.10/dist-packages (from rich->keras>=3.2.0->tensorflow) (2.18.0)\n",
            "Requirement already satisfied: mdurl~=0.1 in /usr/local/lib/python3.10/dist-packages (from markdown-it-py>=2.2.0->rich->keras>=3.2.0->tensorflow) (0.1.2)\n",
            "Downloading mnist-0.2.2-py2.py3-none-any.whl (3.5 kB)\n",
            "Installing collected packages: mnist\n",
            "Successfully installed mnist-0.2.2\n"
          ]
        }
      ],
      "source": [
        "!pip install tensorflow numpy mnist"
      ]
    },
    {
      "cell_type": "code",
      "source": [
        "import tensorflow as tf\n",
        "from tensorflow import keras\n",
        "x_train, x_test, y_train, y_test = train_test_split(np.array(images), y_numeric, test_size=0.2, random_state=42)\n",
        "base_model = tf.keras.applications.MobileNetV3Small(input_shape=(224,224,3),include_top=False,weights='imagenet')\n",
        "base_model.trainable = False\n",
        "keras_model=keras.models.Sequential()\n",
        "keras_model.add(base_model)\n",
        "keras_model.add(keras.layers.Flatten())\n",
        "keras_model.add(keras.layers.Dropout(0.5))\n",
        "keras_model.add(keras.layers.Dense(128,activation=tf.nn.relu))\n",
        "keras_model.add(keras.layers.Dense(6,activation=tf.nn.softmax))\n",
        "\n"
      ],
      "metadata": {
        "id": "39c40DwoqFnu",
        "colab": {
          "base_uri": "https://localhost:8080/"
        },
        "collapsed": true,
        "outputId": "7dabdc0f-5c43-44b2-eda8-34383cd07117"
      },
      "execution_count": 26,
      "outputs": [
        {
          "output_type": "stream",
          "name": "stdout",
          "text": [
            "Downloading data from https://storage.googleapis.com/tensorflow/keras-applications/mobilenet_v3/weights_mobilenet_v3_small_224_1.0_float_no_top_v2.h5\n",
            "\u001b[1m4334752/4334752\u001b[0m \u001b[32m━━━━━━━━━━━━━━━━━━━━\u001b[0m\u001b[37m\u001b[0m \u001b[1m0s\u001b[0m 0us/step\n"
          ]
        }
      ]
    },
    {
      "cell_type": "code",
      "source": [
        "keras_model.compile(optimizer='adam',loss='sparse_categorical_crossentropy',metrics=['accuracy'])"
      ],
      "metadata": {
        "id": "5kc00tsYqqa3"
      },
      "execution_count": 27,
      "outputs": []
    },
    {
      "cell_type": "code",
      "source": [
        "\n",
        "from tensorflow.keras.callbacks import ModelCheckpoint, EarlyStopping\n",
        "checkpoint = ModelCheckpoint(\"best_model.keras\", monitor='val_loss', save_best_only=True)\n",
        "early_stopping = EarlyStopping(monitor='val_loss', patience=10)\n",
        "keras_model.fit(x_train,y_train,epochs=20,validation_data=(x_test,y_test), callbacks=[checkpoint, early_stopping])"
      ],
      "metadata": {
        "id": "6UJHW2SLrdMf",
        "colab": {
          "base_uri": "https://localhost:8080/"
        },
        "collapsed": true,
        "outputId": "c4e8d1ea-4abc-49de-b92e-5e967d226ebf"
      },
      "execution_count": 31,
      "outputs": [
        {
          "output_type": "stream",
          "name": "stdout",
          "text": [
            "Epoch 1/20\n",
            "\u001b[1m22/22\u001b[0m \u001b[32m━━━━━━━━━━━━━━━━━━━━\u001b[0m\u001b[37m\u001b[0m \u001b[1m15s\u001b[0m 701ms/step - accuracy: 0.4222 - loss: 4.2087 - val_accuracy: 0.6264 - val_loss: 0.9999\n",
            "Epoch 2/20\n",
            "\u001b[1m22/22\u001b[0m \u001b[32m━━━━━━━━━━━━━━━━━━━━\u001b[0m\u001b[37m\u001b[0m \u001b[1m1s\u001b[0m 43ms/step - accuracy: 0.8478 - loss: 0.4360 - val_accuracy: 0.7701 - val_loss: 0.6851\n",
            "Epoch 3/20\n",
            "\u001b[1m22/22\u001b[0m \u001b[32m━━━━━━━━━━━━━━━━━━━━\u001b[0m\u001b[37m\u001b[0m \u001b[1m1s\u001b[0m 17ms/step - accuracy: 0.9548 - loss: 0.1309 - val_accuracy: 0.7989 - val_loss: 0.6973\n",
            "Epoch 4/20\n",
            "\u001b[1m22/22\u001b[0m \u001b[32m━━━━━━━━━━━━━━━━━━━━\u001b[0m\u001b[37m\u001b[0m \u001b[1m1s\u001b[0m 39ms/step - accuracy: 0.9823 - loss: 0.0662 - val_accuracy: 0.7989 - val_loss: 0.6390\n",
            "Epoch 5/20\n",
            "\u001b[1m22/22\u001b[0m \u001b[32m━━━━━━━━━━━━━━━━━━━━\u001b[0m\u001b[37m\u001b[0m \u001b[1m0s\u001b[0m 15ms/step - accuracy: 0.9883 - loss: 0.0417 - val_accuracy: 0.8161 - val_loss: 0.6603\n",
            "Epoch 6/20\n",
            "\u001b[1m22/22\u001b[0m \u001b[32m━━━━━━━━━━━━━━━━━━━━\u001b[0m\u001b[37m\u001b[0m \u001b[1m1s\u001b[0m 20ms/step - accuracy: 0.9987 - loss: 0.0172 - val_accuracy: 0.8103 - val_loss: 0.6648\n",
            "Epoch 7/20\n",
            "\u001b[1m22/22\u001b[0m \u001b[32m━━━━━━━━━━━━━━━━━━━━\u001b[0m\u001b[37m\u001b[0m \u001b[1m1s\u001b[0m 55ms/step - accuracy: 0.9848 - loss: 0.0307 - val_accuracy: 0.8276 - val_loss: 0.6293\n",
            "Epoch 8/20\n",
            "\u001b[1m22/22\u001b[0m \u001b[32m━━━━━━━━━━━━━━━━━━━━\u001b[0m\u001b[37m\u001b[0m \u001b[1m1s\u001b[0m 59ms/step - accuracy: 0.9954 - loss: 0.0232 - val_accuracy: 0.8046 - val_loss: 0.6143\n",
            "Epoch 9/20\n",
            "\u001b[1m22/22\u001b[0m \u001b[32m━━━━━━━━━━━━━━━━━━━━\u001b[0m\u001b[37m\u001b[0m \u001b[1m2s\u001b[0m 44ms/step - accuracy: 0.9919 - loss: 0.0254 - val_accuracy: 0.8333 - val_loss: 0.5779\n",
            "Epoch 10/20\n",
            "\u001b[1m22/22\u001b[0m \u001b[32m━━━━━━━━━━━━━━━━━━━━\u001b[0m\u001b[37m\u001b[0m \u001b[1m1s\u001b[0m 16ms/step - accuracy: 0.9972 - loss: 0.0124 - val_accuracy: 0.8161 - val_loss: 0.5962\n",
            "Epoch 11/20\n",
            "\u001b[1m22/22\u001b[0m \u001b[32m━━━━━━━━━━━━━━━━━━━━\u001b[0m\u001b[37m\u001b[0m \u001b[1m1s\u001b[0m 15ms/step - accuracy: 0.9926 - loss: 0.0143 - val_accuracy: 0.8103 - val_loss: 0.6793\n",
            "Epoch 12/20\n",
            "\u001b[1m22/22\u001b[0m \u001b[32m━━━━━━━━━━━━━━━━━━━━\u001b[0m\u001b[37m\u001b[0m \u001b[1m0s\u001b[0m 15ms/step - accuracy: 0.9903 - loss: 0.0342 - val_accuracy: 0.8161 - val_loss: 0.6514\n",
            "Epoch 13/20\n",
            "\u001b[1m22/22\u001b[0m \u001b[32m━━━━━━━━━━━━━━━━━━━━\u001b[0m\u001b[37m\u001b[0m \u001b[1m0s\u001b[0m 16ms/step - accuracy: 0.9933 - loss: 0.0174 - val_accuracy: 0.8161 - val_loss: 0.7289\n",
            "Epoch 14/20\n",
            "\u001b[1m22/22\u001b[0m \u001b[32m━━━━━━━━━━━━━━━━━━━━\u001b[0m\u001b[37m\u001b[0m \u001b[1m0s\u001b[0m 15ms/step - accuracy: 0.9976 - loss: 0.0367 - val_accuracy: 0.8391 - val_loss: 0.6323\n",
            "Epoch 15/20\n",
            "\u001b[1m22/22\u001b[0m \u001b[32m━━━━━━━━━━━━━━━━━━━━\u001b[0m\u001b[37m\u001b[0m \u001b[1m1s\u001b[0m 15ms/step - accuracy: 0.9953 - loss: 0.0388 - val_accuracy: 0.7931 - val_loss: 0.7747\n",
            "Epoch 16/20\n",
            "\u001b[1m22/22\u001b[0m \u001b[32m━━━━━━━━━━━━━━━━━━━━\u001b[0m\u001b[37m\u001b[0m \u001b[1m0s\u001b[0m 15ms/step - accuracy: 0.9972 - loss: 0.0382 - val_accuracy: 0.8161 - val_loss: 0.6334\n",
            "Epoch 17/20\n",
            "\u001b[1m22/22\u001b[0m \u001b[32m━━━━━━━━━━━━━━━━━━━━\u001b[0m\u001b[37m\u001b[0m \u001b[1m0s\u001b[0m 15ms/step - accuracy: 0.9983 - loss: 0.0096 - val_accuracy: 0.8218 - val_loss: 0.6091\n",
            "Epoch 18/20\n",
            "\u001b[1m22/22\u001b[0m \u001b[32m━━━━━━━━━━━━━━━━━━━━\u001b[0m\u001b[37m\u001b[0m \u001b[1m0s\u001b[0m 15ms/step - accuracy: 0.9990 - loss: 0.0081 - val_accuracy: 0.8046 - val_loss: 0.6566\n",
            "Epoch 19/20\n",
            "\u001b[1m22/22\u001b[0m \u001b[32m━━━━━━━━━━━━━━━━━━━━\u001b[0m\u001b[37m\u001b[0m \u001b[1m1s\u001b[0m 15ms/step - accuracy: 0.9945 - loss: 0.0153 - val_accuracy: 0.8046 - val_loss: 0.6577\n"
          ]
        },
        {
          "output_type": "execute_result",
          "data": {
            "text/plain": [
              "<keras.src.callbacks.history.History at 0x7fb0300f09a0>"
            ]
          },
          "metadata": {},
          "execution_count": 31
        }
      ]
    },
    {
      "cell_type": "code",
      "source": [
        "#Predict\n",
        "from sklearn.metrics import confusion_matrix\n",
        "y_prediction = keras_model.predict(x_test)\n",
        "y_prediction = np.argmax (y_prediction, axis = 1)\n",
        "#y_test=np.argmax(y_test, axis=1)\n",
        "#Create confusion matrix and normalizes it over predicted (columns)\n",
        "print(y_prediction)\n",
        "print(y_test)\n",
        "result = confusion_matrix(y_test, y_prediction , normalize='pred')\n",
        "\n"
      ],
      "metadata": {
        "id": "kxk-lNRGylQB",
        "colab": {
          "base_uri": "https://localhost:8080/"
        },
        "collapsed": true,
        "outputId": "774b011b-971f-49fa-aed5-4a440f1826aa"
      },
      "execution_count": 46,
      "outputs": [
        {
          "output_type": "stream",
          "name": "stdout",
          "text": [
            "\u001b[1m6/6\u001b[0m \u001b[32m━━━━━━━━━━━━━━━━━━━━\u001b[0m\u001b[37m\u001b[0m \u001b[1m0s\u001b[0m 11ms/step\n",
            "[1 5 1 5 2 2 5 2 2 4 0 4 3 0 4 0 4 2 0 2 1 3 3 1 4 0 5 5 5 2 4 1 2 2 2 0 2\n",
            " 2 2 1 2 5 0 5 2 0 0 1 2 2 0 2 2 2 0 2 1 0 1 0 1 5 5 2 1 2 0 1 3 1 3 0 2 2\n",
            " 5 0 1 0 0 2 3 2 2 0 3 2 3 3 0 0 3 0 0 0 2 1 5 1 1 1 5 0 1 2 5 2 3 1 2 5 1\n",
            " 2 1 5 4 3 5 0 1 1 2 2 3 2 2 0 4 2 5 0 2 1 0 5 5 0 5 0 4 0 0 2 3 5 5 0 0 0\n",
            " 2 1 2 1 1 5 1 4 0 3 2 3 5 1 1 2 1 1 0 1 3 5 4 3 2 3]\n",
            "[3 5 1 5 2 2 5 2 1 4 0 4 3 0 4 0 4 2 0 1 0 3 3 1 4 0 5 5 5 2 2 3 2 2 2 4 2\n",
            " 5 2 1 2 2 4 5 1 0 0 1 2 2 0 2 2 2 0 2 1 0 1 0 1 5 5 2 1 2 0 1 3 1 0 2 5 2\n",
            " 5 0 1 0 0 2 3 1 2 0 3 2 3 1 0 0 1 0 0 4 1 1 5 2 1 1 5 0 1 2 5 2 4 1 2 5 3\n",
            " 2 1 4 4 3 5 0 1 1 1 2 3 2 2 0 4 5 5 0 2 1 0 5 5 0 5 0 4 0 0 1 3 5 5 4 0 0\n",
            " 5 1 2 1 1 5 5 5 0 3 2 3 5 1 1 5 1 1 2 1 3 5 1 3 1 3]\n"
          ]
        }
      ]
    },
    {
      "cell_type": "code",
      "execution_count": 33,
      "metadata": {
        "id": "42Qt7w7k4Ej0",
        "colab": {
          "base_uri": "https://localhost:8080/"
        },
        "outputId": "c4f8a2ae-f46d-4ea4-96c5-f7a8889d4b80",
        "collapsed": true
      },
      "outputs": [
        {
          "output_type": "stream",
          "name": "stderr",
          "text": [
            "/usr/local/lib/python3.10/dist-packages/keras/src/layers/convolutional/base_conv.py:107: UserWarning: Do not pass an `input_shape`/`input_dim` argument to a layer. When using Sequential models, prefer using an `Input(shape)` object as the first layer in the model instead.\n",
            "  super().__init__(activity_regularizer=activity_regularizer, **kwargs)\n"
          ]
        }
      ],
      "source": [
        "\n",
        "from tensorflow.keras.layers import Conv2D, MaxPooling2D, Dense, Flatten\n",
        "from tensorflow.keras.models import Sequential\n",
        "from tensorflow.keras.regularizers import l2\n",
        "num_filters = 8\n",
        "filter_size = 3\n",
        "pool_size = 2\n",
        "\n",
        "model = Sequential([\n",
        "  Conv2D(8, 3, input_shape=(224, 224, 3)),\n",
        "  MaxPooling2D(pool_size=pool_size),\n",
        "  Conv2D(16, 3),\n",
        "  MaxPooling2D(pool_size=pool_size),\n",
        "  Conv2D(24, 3),\n",
        "  MaxPooling2D(pool_size=pool_size),\n",
        "  Conv2D(32, 3),\n",
        "  MaxPooling2D(pool_size=pool_size),\n",
        "  Conv2D(64, 3),\n",
        "  MaxPooling2D(pool_size=pool_size),\n",
        "  Flatten(),\n",
        "  Dense(6, activation='softmax')\n",
        "])\n"
      ]
    },
    {
      "cell_type": "code",
      "execution_count": 37,
      "metadata": {
        "id": "Nhx1xVeN4wKQ"
      },
      "outputs": [],
      "source": [
        "from tensorflow.keras.optimizers import Adam\n",
        "optimizer = Adam(learning_rate=0.0002)\n",
        "model.compile(\n",
        "  optimizer,\n",
        "  loss='categorical_crossentropy',\n",
        "  metrics=['accuracy'],\n",
        ")\n",
        "\n"
      ]
    },
    {
      "cell_type": "code",
      "source": [
        "from tensorflow.keras.utils import to_categorical\n",
        "from sklearn.model_selection import train_test_split\n",
        "from tensorflow.keras.callbacks import ModelCheckpoint, EarlyStopping\n",
        "\n",
        "\n",
        "\n",
        "print(x_train.shape)\n",
        "print(x_test.shape)\n",
        "print(y_train.shape)\n",
        "print(y_test.shape)\n",
        "\n",
        "\n",
        "checkpoint = ModelCheckpoint(\"best_model.keras\", monitor='val_loss', save_best_only=True)\n",
        "early_stopping = EarlyStopping(monitor='val_loss', patience=5)\n",
        "\n",
        "model.fit(\n",
        "  x_train,\n",
        "  to_categorical(y_train),\n",
        "  epochs=20,\n",
        "  validation_data=(x_test, to_categorical(y_test)),\n",
        "  callbacks=[checkpoint, early_stopping] # Use the defined callbacks\n",
        ")"
      ],
      "metadata": {
        "colab": {
          "base_uri": "https://localhost:8080/"
        },
        "id": "ZL1HOpdnm14E",
        "outputId": "85c1abbe-b6da-4b95-cf47-b4aedbac1d85"
      },
      "execution_count": 38,
      "outputs": [
        {
          "output_type": "stream",
          "name": "stdout",
          "text": [
            "(695, 224, 224, 3)\n",
            "(174, 224, 224, 3)\n",
            "(695,)\n",
            "(174,)\n",
            "Epoch 1/20\n",
            "\u001b[1m22/22\u001b[0m \u001b[32m━━━━━━━━━━━━━━━━━━━━\u001b[0m\u001b[37m\u001b[0m \u001b[1m17s\u001b[0m 653ms/step - accuracy: 0.8745 - loss: 0.4363 - val_accuracy: 0.5172 - val_loss: 4.0206\n",
            "Epoch 2/20\n",
            "\u001b[1m22/22\u001b[0m \u001b[32m━━━━━━━━━━━━━━━━━━━━\u001b[0m\u001b[37m\u001b[0m \u001b[1m6s\u001b[0m 24ms/step - accuracy: 0.9108 - loss: 0.2407 - val_accuracy: 0.5057 - val_loss: 3.5607\n",
            "Epoch 3/20\n",
            "\u001b[1m22/22\u001b[0m \u001b[32m━━━━━━━━━━━━━━━━━━━━\u001b[0m\u001b[37m\u001b[0m \u001b[1m0s\u001b[0m 18ms/step - accuracy: 0.9833 - loss: 0.0450 - val_accuracy: 0.5287 - val_loss: 3.6195\n",
            "Epoch 4/20\n",
            "\u001b[1m22/22\u001b[0m \u001b[32m━━━━━━━━━━━━━━━━━━━━\u001b[0m\u001b[37m\u001b[0m \u001b[1m0s\u001b[0m 20ms/step - accuracy: 0.9756 - loss: 0.0730 - val_accuracy: 0.5287 - val_loss: 3.4914\n",
            "Epoch 5/20\n",
            "\u001b[1m22/22\u001b[0m \u001b[32m━━━━━━━━━━━━━━━━━━━━\u001b[0m\u001b[37m\u001b[0m \u001b[1m0s\u001b[0m 18ms/step - accuracy: 0.9888 - loss: 0.0459 - val_accuracy: 0.5172 - val_loss: 3.6249\n",
            "Epoch 6/20\n",
            "\u001b[1m22/22\u001b[0m \u001b[32m━━━━━━━━━━━━━━━━━━━━\u001b[0m\u001b[37m\u001b[0m \u001b[1m0s\u001b[0m 18ms/step - accuracy: 0.9910 - loss: 0.0359 - val_accuracy: 0.5115 - val_loss: 3.5479\n",
            "Epoch 7/20\n",
            "\u001b[1m22/22\u001b[0m \u001b[32m━━━━━━━━━━━━━━━━━━━━\u001b[0m\u001b[37m\u001b[0m \u001b[1m1s\u001b[0m 20ms/step - accuracy: 0.9949 - loss: 0.0312 - val_accuracy: 0.5287 - val_loss: 3.4940\n",
            "Epoch 8/20\n",
            "\u001b[1m22/22\u001b[0m \u001b[32m━━━━━━━━━━━━━━━━━━━━\u001b[0m\u001b[37m\u001b[0m \u001b[1m1s\u001b[0m 15ms/step - accuracy: 0.9866 - loss: 0.0406 - val_accuracy: 0.5000 - val_loss: 3.6474\n",
            "Epoch 9/20\n",
            "\u001b[1m22/22\u001b[0m \u001b[32m━━━━━━━━━━━━━━━━━━━━\u001b[0m\u001b[37m\u001b[0m \u001b[1m1s\u001b[0m 18ms/step - accuracy: 0.9979 - loss: 0.0270 - val_accuracy: 0.5287 - val_loss: 3.4392\n",
            "Epoch 10/20\n",
            "\u001b[1m22/22\u001b[0m \u001b[32m━━━━━━━━━━━━━━━━━━━━\u001b[0m\u001b[37m\u001b[0m \u001b[1m0s\u001b[0m 18ms/step - accuracy: 0.9972 - loss: 0.0247 - val_accuracy: 0.5230 - val_loss: 3.3925\n",
            "Epoch 11/20\n",
            "\u001b[1m22/22\u001b[0m \u001b[32m━━━━━━━━━━━━━━━━━━━━\u001b[0m\u001b[37m\u001b[0m \u001b[1m0s\u001b[0m 17ms/step - accuracy: 0.9809 - loss: 0.0501 - val_accuracy: 0.5057 - val_loss: 3.7973\n",
            "Epoch 12/20\n",
            "\u001b[1m22/22\u001b[0m \u001b[32m━━━━━━━━━━━━━━━━━━━━\u001b[0m\u001b[37m\u001b[0m \u001b[1m1s\u001b[0m 16ms/step - accuracy: 0.9890 - loss: 0.0410 - val_accuracy: 0.5000 - val_loss: 3.6251\n",
            "Epoch 13/20\n",
            "\u001b[1m22/22\u001b[0m \u001b[32m━━━━━━━━━━━━━━━━━━━━\u001b[0m\u001b[37m\u001b[0m \u001b[1m1s\u001b[0m 16ms/step - accuracy: 0.9972 - loss: 0.0276 - val_accuracy: 0.5230 - val_loss: 3.4589\n",
            "Epoch 14/20\n",
            "\u001b[1m22/22\u001b[0m \u001b[32m━━━━━━━━━━━━━━━━━━━━\u001b[0m\u001b[37m\u001b[0m \u001b[1m0s\u001b[0m 18ms/step - accuracy: 0.9916 - loss: 0.0392 - val_accuracy: 0.5345 - val_loss: 3.2996\n",
            "Epoch 15/20\n",
            "\u001b[1m22/22\u001b[0m \u001b[32m━━━━━━━━━━━━━━━━━━━━\u001b[0m\u001b[37m\u001b[0m \u001b[1m0s\u001b[0m 15ms/step - accuracy: 0.9956 - loss: 0.0289 - val_accuracy: 0.5345 - val_loss: 3.4846\n",
            "Epoch 16/20\n",
            "\u001b[1m22/22\u001b[0m \u001b[32m━━━━━━━━━━━━━━━━━━━━\u001b[0m\u001b[37m\u001b[0m \u001b[1m1s\u001b[0m 17ms/step - accuracy: 0.9949 - loss: 0.0502 - val_accuracy: 0.5345 - val_loss: 3.3724\n",
            "Epoch 17/20\n",
            "\u001b[1m22/22\u001b[0m \u001b[32m━━━━━━━━━━━━━━━━━━━━\u001b[0m\u001b[37m\u001b[0m \u001b[1m1s\u001b[0m 14ms/step - accuracy: 0.9938 - loss: 0.0145 - val_accuracy: 0.5345 - val_loss: 3.3810\n",
            "Epoch 18/20\n",
            "\u001b[1m22/22\u001b[0m \u001b[32m━━━━━━━━━━━━━━━━━━━━\u001b[0m\u001b[37m\u001b[0m \u001b[1m1s\u001b[0m 17ms/step - accuracy: 0.9961 - loss: 0.0333 - val_accuracy: 0.5460 - val_loss: 3.5041\n",
            "Epoch 19/20\n",
            "\u001b[1m22/22\u001b[0m \u001b[32m━━━━━━━━━━━━━━━━━━━━\u001b[0m\u001b[37m\u001b[0m \u001b[1m0s\u001b[0m 15ms/step - accuracy: 0.9949 - loss: 0.0222 - val_accuracy: 0.5172 - val_loss: 3.4877\n"
          ]
        },
        {
          "output_type": "execute_result",
          "data": {
            "text/plain": [
              "<keras.src.callbacks.history.History at 0x7fafc858d9f0>"
            ]
          },
          "metadata": {},
          "execution_count": 38
        }
      ]
    },
    {
      "cell_type": "code",
      "source": [],
      "metadata": {
        "id": "FqknbCECnl-Y"
      },
      "execution_count": null,
      "outputs": []
    }
  ],
  "metadata": {
    "colab": {
      "provenance": [],
      "gpuType": "T4",
      "include_colab_link": true
    },
    "kernelspec": {
      "display_name": "Python 3",
      "name": "python3"
    },
    "language_info": {
      "name": "python"
    },
    "accelerator": "GPU"
  },
  "nbformat": 4,
  "nbformat_minor": 0
}